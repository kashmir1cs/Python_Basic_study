{
 "cells": [
  {
   "cell_type": "markdown",
   "metadata": {},
   "source": [
    "# 연습문제\n",
    "## 전화번호 찾는 예제\n"
   ]
  },
  {
   "cell_type": "markdown",
   "metadata": {},
   "source": [
    "* 핸드폰 번호만 찾음"
   ]
  },
  {
   "cell_type": "code",
   "execution_count": 39,
   "metadata": {},
   "outputs": [
    {
     "data": {
      "text/plain": [
       "['010-5555-5555', '010-6666-6666', '010-4774-8888']"
      ]
     },
     "execution_count": 39,
     "metadata": {},
     "output_type": "execute_result"
    }
   ],
   "source": [
    "import re\n",
    "reg_cellphone=r\"\\d{3}[-_ .*]\\d{4}[-_ .*]\\d{4}\"\n",
    "text=\"6432-34613-234001 OO은행 010-5555-5555 064-551-3555 010-6666-6666 010-4774-8888 02-222-2222\"\n",
    "result=re.findall(reg_cellphone,text)\n",
    "result"
   ]
  },
  {
   "cell_type": "markdown",
   "metadata": {},
   "source": [
    "* 일반 전화번호 찾음"
   ]
  },
  {
   "cell_type": "code",
   "execution_count": 40,
   "metadata": {},
   "outputs": [
    {
     "data": {
      "text/plain": [
       "['010-5555-5555',\n",
       " '064-551-3555',\n",
       " '010-6666-6666',\n",
       " '010-4774-8888',\n",
       " '02-222-2222']"
      ]
     },
     "execution_count": 40,
     "metadata": {},
     "output_type": "execute_result"
    }
   ],
   "source": [
    "reg_phone=r\"\\d{2,3}[-_ .*]\\d{3,4}[-_ .*]\\d{4}\"\n",
    "result=re.findall(reg_phone,text)\n",
    "result"
   ]
  },
  {
   "cell_type": "markdown",
   "metadata": {},
   "source": [
    "## E-Mail 찾는 정규표현식"
   ]
  },
  {
   "cell_type": "code",
   "execution_count": 48,
   "metadata": {},
   "outputs": [
    {
     "data": {
      "text/plain": [
       "<re.Match object; span=(64, 99), match='asdf@hanmail.net 1ad-ddsa@naver.com'>"
      ]
     },
     "execution_count": 48,
     "metadata": {},
     "output_type": "execute_result"
    }
   ],
   "source": [
    "text=\"6432-34613-234001 OO은행 010-5555-5555 064-551-3555 010-6666-6666 asdf@hanmail.net 1ad-ddsa@naver.com\"\n",
    "reg_email=r'[0-9a-zA-Z]([-_.]?[0-9a-zA-Z])*@.+\\..+'\n",
    "result=re.search(reg_email,text)\n",
    "result"
   ]
  },
  {
   "cell_type": "markdown",
   "metadata": {},
   "source": [
    "## URL 찾는 정규표현식"
   ]
  },
  {
   "cell_type": "code",
   "execution_count": 60,
   "metadata": {},
   "outputs": [
    {
     "data": {
      "text/plain": [
       "<re.Match object; span=(50, 73), match='http://ldaelab.co.kr:80'>"
      ]
     },
     "execution_count": 60,
     "metadata": {},
     "output_type": "execute_result"
    }
   ],
   "source": [
    "reg_url=r'(http|https)://(\\w+)(\\w+|\\.|\\-|/)+(:[0-9]+)?' # (http|https)://[\\w\\.\\-/]+\n",
    "text=\"6432-34613-234001 OO은행 010-5555-5555 064-551-3555 http://ldaelab.co.kr:80 010-6666-6666 asdf@hanmail.net 1ad-ddsa@naver.com\"\n",
    "result=re.search(reg_url,text)\n",
    "result"
   ]
  },
  {
   "cell_type": "code",
   "execution_count": 63,
   "metadata": {},
   "outputs": [
    {
     "name": "stdout",
     "output_type": "stream",
     "text": [
      "protocol: http\n",
      "host: ldaelab\n",
      "port: 80\n"
     ]
    }
   ],
   "source": [
    "print(f'protocol: {result.group(1)}')\n",
    "print(f'host: {result.group(2)}')\n",
    "print(f'port: {result.group(4)[1:]}') # : 제거하기위한 슬라이싱"
   ]
  },
  {
   "cell_type": "markdown",
   "metadata": {},
   "source": [
    "## 패턴 검사하는 정규표현식\n",
    "* 자리수 8자리\n",
    "* 1-9로 시작\n",
    "* 두번째~다섯번째는 1010\n",
    "* 여섯번째,일곱번째는 0~5\n",
    "* 여덟번째 숫자는 0\n",
    "* ex) 71010330은 OK, 98101033은 NO"
   ]
  },
  {
   "cell_type": "code",
   "execution_count": 66,
   "metadata": {},
   "outputs": [
    {
     "name": "stdout",
     "output_type": "stream",
     "text": [
      "NG\n"
     ]
    }
   ],
   "source": [
    "reg_pattern=r'^[1-9]1010[0-5]{2}0$'\n",
    "text=\"71010330\"\n",
    "result=re.findall(reg_pattern,text)\n",
    "if result:\n",
    "    print(\"OK\")\n",
    "else:\n",
    "    print(\"NG\")"
   ]
  },
  {
   "cell_type": "markdown",
   "metadata": {},
   "source": [
    "## 소설내 텍스트 분석\n",
    "* 소설 : 위대한 개츠비\n"
   ]
  },
  {
   "cell_type": "code",
   "execution_count": 104,
   "metadata": {},
   "outputs": [],
   "source": [
    "import requests\n",
    "url=\"http://www.gutenberg.org/files/64317/64317-0.txt\"\n",
    "response=requests.get(url)\n",
    "response.encoding='utf-8'\n",
    "text=response.text"
   ]
  },
  {
   "cell_type": "code",
   "execution_count": 105,
   "metadata": {},
   "outputs": [
    {
     "data": {
      "text/plain": [
       "296704"
      ]
     },
     "execution_count": 105,
     "metadata": {},
     "output_type": "execute_result"
    }
   ],
   "source": [
    "len(text)"
   ]
  },
  {
   "cell_type": "code",
   "execution_count": 73,
   "metadata": {},
   "outputs": [
    {
     "data": {
      "text/plain": [
       "232"
      ]
     },
     "execution_count": 73,
     "metadata": {},
     "output_type": "execute_result"
    }
   ],
   "source": [
    "# 숫자 개수\n",
    "reg_text= r'[0-9]'\n",
    "result_num=re.findall(reg_text,text)\n",
    "len(result_num)"
   ]
  },
  {
   "cell_type": "code",
   "execution_count": 76,
   "metadata": {},
   "outputs": [
    {
     "data": {
      "text/plain": [
       "214107"
      ]
     },
     "execution_count": 76,
     "metadata": {},
     "output_type": "execute_result"
    }
   ],
   "source": [
    "# 소문자 개수\n",
    "reg_text= r'[a-z]'\n",
    "result_lower=re.findall(reg_text,text)\n",
    "len(result_lower)"
   ]
  },
  {
   "cell_type": "code",
   "execution_count": 77,
   "metadata": {},
   "outputs": [
    {
     "data": {
      "text/plain": [
       "7714"
      ]
     },
     "execution_count": 77,
     "metadata": {},
     "output_type": "execute_result"
    }
   ],
   "source": [
    "# 대문자 개수\n",
    "reg_text= r'[A-Z]'\n",
    "result_Upper=re.findall(reg_text,text)\n",
    "len(result_Upper)"
   ]
  },
  {
   "cell_type": "code",
   "execution_count": 78,
   "metadata": {},
   "outputs": [
    {
     "data": {
      "text/plain": [
       "9302"
      ]
     },
     "execution_count": 78,
     "metadata": {},
     "output_type": "execute_result"
    }
   ],
   "source": [
    "# 특수 문자 개수\n",
    "reg_text=r'[\\{\\}\\[\\]\\/?.,;:|\\)*~`!^\\-_+<>@|#$%&\\\\\\=\\(\\'\\\"]'\n",
    "result_special=re.findall(reg_text,text)\n",
    "len(result_special)"
   ]
  },
  {
   "cell_type": "markdown",
   "metadata": {},
   "source": [
    "### 결과 시각화"
   ]
  },
  {
   "cell_type": "code",
   "execution_count": 80,
   "metadata": {},
   "outputs": [
    {
     "data": {
      "image/png": "[encoded data removed]",
      "text/plain": [
       "<Figure size 432x288 with 1 Axes>"
      ]
     },
     "metadata": {},
     "output_type": "display_data"
    }
   ],
   "source": [
    "import matplotlib.pyplot as plt\n",
    "\n",
    "# Pie chart, where the slices will be ordered and plotted counter-clockwise:\n",
    "labels = 'number', 'lower', 'upper', 'special'\n",
    "sizes = [len(result_num), len(result_lower), len(result_Upper), len(result_special)]\n",
    "explode = (0, 0.1, 0, 0)  # only \"explode\" the 2nd slice (i.e. 'Hogs')\n",
    "\n",
    "fig1, ax1 = plt.subplots()\n",
    "ax1.pie(sizes, explode=explode, labels=labels, autopct='%1.1f%%',\n",
    "        shadow=True, startangle=90)\n",
    "ax1.axis('equal')  # Equal aspect ratio ensures that pie is drawn as a circle.\n",
    "\n",
    "plt.show()"
   ]
  },
  {
   "cell_type": "markdown",
   "metadata": {},
   "source": [
    "## 약자 만들기 (간단하지만 활용빈도 높음)\n",
    "* ORM, NASA, CS등 약자를 만드는 프로그램을 작성하시오\n",
    "* 예시 \n",
    "    * 입력 : Object Relational Mapping , 출력 : ORM"
   ]
  },
  {
   "cell_type": "code",
   "execution_count": 83,
   "metadata": {},
   "outputs": [
    {
     "data": {
      "text/plain": [
       "'ORM'"
      ]
     },
     "execution_count": 83,
     "metadata": {},
     "output_type": "execute_result"
    }
   ],
   "source": [
    "reg_upper=r'[A-Z]'\n",
    "result= re.findall(reg_upper,\"Object Relational Mapping\")\n",
    "\"\".join(result)"
   ]
  },
  {
   "cell_type": "markdown",
   "metadata": {},
   "source": [
    "## 주사위 문제 (규칙+ 계산)"
   ]
  },
  {
   "cell_type": "markdown",
   "metadata": {},
   "source": [
    "주사위#1 : 1~6 주사위#2 : A,B,C,D,! (각각 2배,3배,4배,5배,지금까지 합의 제곱)\n",
    "* ex1 : 2A3A4! = ( (2 x 2)+ (3 x 2) + (4) )^2 = 14^2 = 196\n",
    "* ex2 : 6!2C2C =  (6^2)+ (2 x 4) + (2 x 4) = 36+8+8 =52\n"
   ]
  },
  {
   "cell_type": "code",
   "execution_count": 101,
   "metadata": {},
   "outputs": [
    {
     "data": {
      "text/plain": [
       "[('2', '!'), ('2', '!'), ('2', '!')]"
      ]
     },
     "execution_count": 101,
     "metadata": {},
     "output_type": "execute_result"
    }
   ],
   "source": [
    "reg=r'([1-6])([A-D!]?)'\n",
    "result=re.findall(reg,\"2!2!2!\")\n",
    "result"
   ]
  },
  {
   "cell_type": "code",
   "execution_count": 102,
   "metadata": {},
   "outputs": [
    {
     "name": "stdout",
     "output_type": "stream",
     "text": [
      "[1444]\n",
      "1444\n"
     ]
    }
   ],
   "source": [
    "score =[]\n",
    "for i,j in result:\n",
    "    if j==\"A\":\n",
    "        score.append(int(i)*2)\n",
    "    elif j==\"B\":\n",
    "        score.append(int(i)*3)\n",
    "    elif j==\"C\":\n",
    "        score.append(int(i)*4)\n",
    "    elif j==\"D\":\n",
    "        score.append(int(i)*5)\n",
    "    elif j==\"!\":\n",
    "        score.append(int(i))\n",
    "        score=[sum(score)**2]\n",
    "    else:\n",
    "        score.append(int(i))\n",
    "\n",
    "print(score)\n",
    "print(sum(score))\n",
    "        "
   ]
  },
  {
   "cell_type": "code",
   "execution_count": null,
   "metadata": {},
   "outputs": [],
   "source": []
  }
 ],
 "metadata": {
  "kernelspec": {
   "display_name": "Python 3",
   "language": "python",
   "name": "python3"
  },
  "language_info": {
   "codemirror_mode": {
    "name": "ipython",
    "version": 3
   },
   "file_extension": ".py",
   "mimetype": "text/x-python",
   "name": "python",
   "nbconvert_exporter": "python",
   "pygments_lexer": "ipython3",
   "version": "3.8.5"
  },
  "toc": {
   "base_numbering": 1,
   "nav_menu": {},
   "number_sections": true,
   "sideBar": true,
   "skip_h1_title": false,
   "title_cell": "Table of Contents",
   "title_sidebar": "Contents",
   "toc_cell": false,
   "toc_position": {},
   "toc_section_display": true,
   "toc_window_display": true
  },
  "varInspector": {
   "cols": {
    "lenName": 16,
    "lenType": 16,
    "lenVar": 40
   },
   "kernels_config": {
    "python": {
     "delete_cmd_postfix": "",
     "delete_cmd_prefix": "del ",
     "library": "var_list.py",
     "varRefreshCmd": "print(var_dic_list())"
    },
    "r": {
     "delete_cmd_postfix": ") ",
     "delete_cmd_prefix": "rm(",
     "library": "var_list.r",
     "varRefreshCmd": "cat(var_dic_list()) "
    }
   },
   "types_to_exclude": [
    "module",
    "function",
    "builtin_function_or_method",
    "instance",
    "_Feature"
   ],
   "window_display": false
  }
 },
 "nbformat": 4,
 "nbformat_minor": 4
}
