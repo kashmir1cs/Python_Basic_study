{
 "cells": [
  {
   "cell_type": "markdown",
   "metadata": {},
   "source": [
    "#  정규 표현식\n",
    "## tutorial 1"
   ]
  },
  {
   "cell_type": "code",
   "execution_count": 2,
   "metadata": {},
   "outputs": [
    {
     "name": "stdout",
     "output_type": "stream",
     "text": [
      "<re.Match object; span=(17, 25), match='age : 10'>\n",
      "<class 're.Match'>\n",
      "['__class__', '__copy__', '__deepcopy__', '__delattr__', '__dir__', '__doc__', '__eq__', '__format__', '__ge__', '__getattribute__', '__getitem__', '__gt__', '__hash__', '__init__', '__init_subclass__', '__le__', '__lt__', '__ne__', '__new__', '__reduce__', '__reduce_ex__', '__repr__', '__setattr__', '__sizeof__', '__str__', '__subclasshook__', 'end', 'endpos', 'expand', 'group', 'groupdict', 'groups', 'lastgroup', 'lastindex', 'pos', 're', 'regs', 'span', 'start', 'string']\n"
     ]
    },
    {
     "data": {
      "text/plain": [
       "\"\\n'end', 'endpos', 'expand', 'group', 'groupdict', 'groups', 'lastgroup',\\n'lastindex', 'pos', 're', 'regs', 'span', 'start', 'string'\\n\""
      ]
     },
     "execution_count": 2,
     "metadata": {},
     "output_type": "execute_result"
    }
   ],
   "source": [
    "import re\n",
    "reg=r'([a-zA-Z]+) : (\\d+)'  # group1 : ([a-zA-Z]+) group2 : (\\d+)\n",
    "text = 'name : leehskkk, age : 10, height : 180, email : d-bla@abc.com'\n",
    "result = re.search(reg,text) # 처음에 매칭되는 패턴만 찾음\n",
    "print(result)\n",
    "print(type(result))\n",
    "print(dir(result))\n",
    "# <class 're.Match'>\n",
    "'''\n",
    "'end', 'endpos', 'expand', 'group', 'groupdict', 'groups', 'lastgroup',\n",
    "'lastindex', 'pos', 're', 'regs', 'span', 'start', 'string'\n",
    "'''\n"
   ]
  },
  {
   "cell_type": "code",
   "execution_count": 3,
   "metadata": {},
   "outputs": [
    {
     "data": {
      "text/plain": [
       "25"
      ]
     },
     "execution_count": 3,
     "metadata": {},
     "output_type": "execute_result"
    }
   ],
   "source": [
    "result.start() # match된 \n",
    "result.end()"
   ]
  },
  {
   "cell_type": "code",
   "execution_count": 4,
   "metadata": {},
   "outputs": [
    {
     "data": {
      "text/plain": [
       "'age : 10'"
      ]
     },
     "execution_count": 4,
     "metadata": {},
     "output_type": "execute_result"
    }
   ],
   "source": [
    "text[result.start():result.end()]"
   ]
  },
  {
   "cell_type": "code",
   "execution_count": 5,
   "metadata": {},
   "outputs": [
    {
     "name": "stdout",
     "output_type": "stream",
     "text": [
      "age : 10\n",
      "age\n",
      "10\n"
     ]
    }
   ],
   "source": [
    "print(result.group(0)) # 전체\n",
    "print(result.group(1)) # 1번 그룹\n",
    "print(result.group(2)) # 2번 그룹"
   ]
  },
  {
   "cell_type": "markdown",
   "metadata": {},
   "source": [
    "## tutorial 2"
   ]
  },
  {
   "cell_type": "code",
   "execution_count": 6,
   "metadata": {},
   "outputs": [
    {
     "data": {
      "text/plain": [
       "[('age', '10'), ('height', '180')]"
      ]
     },
     "execution_count": 6,
     "metadata": {},
     "output_type": "execute_result"
    }
   ],
   "source": [
    "reg=r'([a-zA-Z]+) : (\\d+)'  # group1 : ([a-zA-Z]+) group2 : (\\d+)\n",
    "text = 'name : leehskkk, age : 10, height : 180, email : d-bla@abc.com'\n",
    "result = re.findall(reg,text) # 정규표현식에 매칭되는 값 전체를 찾음\n",
    "result # list안의 Tuple 값으로 반환함"
   ]
  },
  {
   "cell_type": "code",
   "execution_count": 7,
   "metadata": {},
   "outputs": [
    {
     "data": {
      "text/plain": [
       "{'age': '10', 'height': '180'}"
      ]
     },
     "execution_count": 7,
     "metadata": {},
     "output_type": "execute_result"
    }
   ],
   "source": [
    "# 딕셔너리로 반환\n",
    "dict_result=dict(result)\n",
    "# dict로 변환 후 JSON등으로 변환 가능\n",
    "dict_result "
   ]
  },
  {
   "cell_type": "code",
   "execution_count": 8,
   "metadata": {},
   "outputs": [
    {
     "name": "stdout",
     "output_type": "stream",
     "text": [
      "<class 'list'>\n",
      "['__add__', '__class__', '__contains__', '__delattr__', '__delitem__', '__dir__', '__doc__', '__eq__', '__format__', '__ge__', '__getattribute__', '__getitem__', '__gt__', '__hash__', '__iadd__', '__imul__', '__init__', '__init_subclass__', '__iter__', '__le__', '__len__', '__lt__', '__mul__', '__ne__', '__new__', '__reduce__', '__reduce_ex__', '__repr__', '__reversed__', '__rmul__', '__setattr__', '__setitem__', '__sizeof__', '__str__', '__subclasshook__', 'append', 'clear', 'copy', 'count', 'extend', 'index', 'insert', 'pop', 'remove', 'reverse', 'sort']\n"
     ]
    }
   ],
   "source": [
    "print(type(result))\n",
    "print(dir(result))"
   ]
  },
  {
   "cell_type": "code",
   "execution_count": 9,
   "metadata": {},
   "outputs": [
    {
     "data": {
      "text/plain": [
       "<callable_iterator at 0x239ece199a0>"
      ]
     },
     "execution_count": 9,
     "metadata": {},
     "output_type": "execute_result"
    }
   ],
   "source": [
    "reg=r'([a-zA-Z]+) : (\\d+)'  # group1 : ([a-zA-Z]+) group2 : (\\d+)\n",
    "text = 'name : leehskkk, age : 10, height : 180, email : d-bla@abc.com'\n",
    "result = re.finditer(reg,text) #iterable 객체로 반환\n",
    "result # iterator 생성 "
   ]
  },
  {
   "cell_type": "code",
   "execution_count": 10,
   "metadata": {},
   "outputs": [
    {
     "name": "stdout",
     "output_type": "stream",
     "text": [
      "<re.Match object; span=(17, 25), match='age : 10'>\n",
      "17 25\n",
      "age : 10\n",
      "age\n",
      "10\n",
      "<re.Match object; span=(27, 39), match='height : 180'>\n",
      "27 39\n",
      "height : 180\n",
      "height\n",
      "180\n"
     ]
    }
   ],
   "source": [
    "# for문 활용가능 \n",
    "for i in result:\n",
    "    print(i)\n",
    "    # print(type(i))\n",
    "    # print(dir(i))\n",
    "    print(i.start(),i.end())\n",
    "    print(i.group(0))\n",
    "    print(i.group(1))\n",
    "    print(i.group(2))"
   ]
  },
  {
   "cell_type": "markdown",
   "metadata": {},
   "source": [
    "## tutorial 3"
   ]
  },
  {
   "cell_type": "code",
   "execution_count": 11,
   "metadata": {},
   "outputs": [
    {
     "data": {
      "text/plain": [
       "['name : leehskkk, ',\n",
       " 'age',\n",
       " '10',\n",
       " ', ',\n",
       " 'height',\n",
       " '180',\n",
       " ', email : d-bla@abc.com']"
      ]
     },
     "execution_count": 11,
     "metadata": {},
     "output_type": "execute_result"
    }
   ],
   "source": [
    "import re\n",
    "reg=r'([a-zA-Z]+) : (\\d+)'  # group1 : ([a-zA-Z]+) group2 : (\\d+)\n",
    "text = 'name : leehskkk, age : 10, height : 180, email : d-bla@abc.com'\n",
    "result=re.split(reg,text,2) # 정규표현식 패턴 기준으로 분할\n",
    "# split (정규표현식, 문자열,[최대분할수])\n",
    "result # 패턴외 부분은 앞뒤로 list 저장"
   ]
  },
  {
   "cell_type": "code",
   "execution_count": 26,
   "metadata": {},
   "outputs": [
    {
     "name": "stdout",
     "output_type": "stream",
     "text": [
      "['name : leehskkk', ' age : 10', ' height : 180, email : d-bla@abc.com']\n",
      "<class 'list'>\n"
     ]
    }
   ],
   "source": [
    "reg=r','  # comma로 설정\n",
    "text = 'name : leehskkk, age : 10, height : 180, email : d-bla@abc.com'\n",
    "result=re.split(reg,text,2) # 정규표현식 패턴 기준으로 분할\n",
    "# split (정규표현식, 문자열,[최대분할수])\n",
    "print(result) # 패턴외 부분은 앞뒤로 list 저장\n",
    "print(type(result))"
   ]
  },
  {
   "cell_type": "markdown",
   "metadata": {},
   "source": [
    "## tutorial 4\n",
    "### 정규표현식 Pattern을 정의후 Compile하여 활용"
   ]
  },
  {
   "cell_type": "code",
   "execution_count": 21,
   "metadata": {},
   "outputs": [
    {
     "name": "stdout",
     "output_type": "stream",
     "text": [
      "name : leehskkk!!! age : 10!!! height : 180!!! email : d-bla@abc.com\n",
      "<class 'str'>\n"
     ]
    }
   ],
   "source": [
    "import re\n",
    "reg=r','  # comma로 설정\n",
    "text = 'name : leehskkk, age : 10, height : 180, email : d-bla@abc.com'\n",
    "result=re.sub(reg,\"!!!\",text) # comma를 !!!로 대체\n",
    "print(result)\n",
    "print(type(result))\n"
   ]
  },
  {
   "cell_type": "code",
   "execution_count": 22,
   "metadata": {},
   "outputs": [
    {
     "name": "stdout",
     "output_type": "stream",
     "text": [
      "name : leehskkk!!!_!!! age : 10!!!_!!! height : 180!!!_!!! email : d-bla@abc.com\n",
      "<class 'str'>\n"
     ]
    }
   ],
   "source": [
    "# Complie 후 substititue 1\n",
    "text = 'name : leehskkk, age : 10, height : 180, email : d-bla@abc.com'\n",
    "result=re.compile(\",\").sub(\"!!!_!!!\",text) # comma를 !!!_!!!로 대체\n",
    "print(result)\n",
    "print(type(result))"
   ]
  },
  {
   "cell_type": "code",
   "execution_count": 23,
   "metadata": {},
   "outputs": [
    {
     "name": "stdout",
     "output_type": "stream",
     "text": [
      "name : leehskkk!++! age : 10!++! height : 180!++! email : d-bla@abc.com\n",
      "<class 'str'>\n"
     ]
    }
   ],
   "source": [
    "# Complie 후 substititue 2\n",
    "reg = re.compile(',')\n",
    "text = 'name : leehskkk, age : 10, height : 180, email : d-bla@abc.com'\n",
    "result=reg.sub(\"!++!\",text) # comma를 !++!로 대체\n",
    "print(result)\n",
    "print(type(result))"
   ]
  },
  {
   "cell_type": "code",
   "execution_count": 24,
   "metadata": {},
   "outputs": [
    {
     "name": "stdout",
     "output_type": "stream",
     "text": [
      "name : leehskkk!++! age : 10!++! height : 180!++! email : d-bla@abc.com\n",
      "<class 'str'>\n"
     ]
    }
   ],
   "source": [
    "# Complie 후 substititue 3\n",
    "reg = re.compile(',')\n",
    "text = 'name : leehskkk, age : 10, height : 180, email : d-bla@abc.com'\n",
    "result=re.sub(reg,\"!++!\",text)\n",
    "print(result)\n",
    "print(type(result))"
   ]
  },
  {
   "cell_type": "markdown",
   "metadata": {},
   "source": [
    "## tutorial 5\n",
    "* aaabbccc는 a3b2c3로 압축\n",
    "* 다시 원래대로 복귀"
   ]
  },
  {
   "cell_type": "code",
   "execution_count": 30,
   "metadata": {},
   "outputs": [
    {
     "data": {
      "text/plain": [
       "[('a', '3'), ('b', '2'), ('c', '3')]"
      ]
     },
     "execution_count": 30,
     "metadata": {},
     "output_type": "execute_result"
    }
   ],
   "source": [
    "import re\n",
    "reg=re.compile(r'([a-zA-Z])([1-9])')\n",
    "text='a3b2c3'\n",
    "result=reg.findall(text)\n",
    "result"
   ]
  },
  {
   "cell_type": "code",
   "execution_count": 31,
   "metadata": {},
   "outputs": [
    {
     "data": {
      "text/plain": [
       "'aaabbccc'"
      ]
     },
     "execution_count": 31,
     "metadata": {},
     "output_type": "execute_result"
    }
   ],
   "source": [
    "s='' # 빈 문자열\n",
    "for i,j in result:\n",
    "    s+=i*int(j)\n",
    "s"
   ]
  },
  {
   "cell_type": "markdown",
   "metadata": {},
   "source": [
    "## tutorilal 6\n",
    "* 문자형태로 저장된 list 정리"
   ]
  },
  {
   "cell_type": "code",
   "execution_count": 32,
   "metadata": {},
   "outputs": [
    {
     "data": {
      "text/plain": [
       "[('name', 'jseee'),\n",
       " ('age', '10'),\n",
       " ('height', '180'),\n",
       " ('email', 'pead-ddd@naver.com')]"
      ]
     },
     "execution_count": 32,
     "metadata": {},
     "output_type": "execute_result"
    }
   ],
   "source": [
    "text=\"[(name,jseee),(age,10),(height,180),(email,pead-ddd@naver.com)]\"\n",
    "reg=r'\\((.*?),(.*?)\\)' # *= greedy operator ?= non greedy operator\n",
    "result=re.findall(reg,text)\n",
    "result"
   ]
  },
  {
   "cell_type": "code",
   "execution_count": 33,
   "metadata": {},
   "outputs": [
    {
     "data": {
      "text/plain": [
       "{'name': 'jseee', 'age': '10', 'height': '180', 'email': 'pead-ddd@naver.com'}"
      ]
     },
     "execution_count": 33,
     "metadata": {},
     "output_type": "execute_result"
    }
   ],
   "source": [
    "# result dict 형태로 반환\n",
    "result=dict(result)\n",
    "result\n"
   ]
  },
  {
   "cell_type": "markdown",
   "metadata": {},
   "source": [
    "## tutorial 7\n",
    "* 6464-46463-33131 하나은행를 하나은행!!!6464 46463 33131으로 출력"
   ]
  },
  {
   "cell_type": "code",
   "execution_count": 40,
   "metadata": {},
   "outputs": [
    {
     "data": {
      "text/plain": [
       "'하나은행!!!6464 46463 33131'"
      ]
     },
     "execution_count": 40,
     "metadata": {},
     "output_type": "execute_result"
    }
   ],
   "source": [
    "import re\n",
    "reg= r'(?P<one>\\d+)-(?P<two>\\d+)-(?P<three>\\d+) (?P<four>\\w+)'# Grouping 이름 지정\n",
    "text=\"6464-46463-33131 하나은행\"\n",
    "result=re.match(reg,text)\n",
    "# expand 사용하면 group별로 지정가능\n",
    "result.expand(\"\\g<four>!!!\\g<one> \\g<two> \\g<three>\") "
   ]
  },
  {
   "cell_type": "code",
   "execution_count": null,
   "metadata": {},
   "outputs": [],
   "source": []
  },
  {
   "cell_type": "code",
   "execution_count": null,
   "metadata": {},
   "outputs": [],
   "source": []
  }
 ],
 "metadata": {
  "kernelspec": {
   "display_name": "Python 3",
   "language": "python",
   "name": "python3"
  },
  "language_info": {
   "codemirror_mode": {
    "name": "ipython",
    "version": 3
   },
   "file_extension": ".py",
   "mimetype": "text/x-python",
   "name": "python",
   "nbconvert_exporter": "python",
   "pygments_lexer": "ipython3",
   "version": "3.8.5"
  },
  "toc": {
   "base_numbering": 1,
   "nav_menu": {},
   "number_sections": true,
   "sideBar": true,
   "skip_h1_title": false,
   "title_cell": "Table of Contents",
   "title_sidebar": "Contents",
   "toc_cell": false,
   "toc_position": {},
   "toc_section_display": true,
   "toc_window_display": true
  }
 },
 "nbformat": 4,
 "nbformat_minor": 4
}
