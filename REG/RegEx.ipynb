{
 "cells": [
  {
   "cell_type": "markdown",
   "metadata": {},
   "source": [
    "#  정규 표현식\n",
    "## tutorial 1"
   ]
  },
  {
   "cell_type": "code",
   "execution_count": 28,
   "metadata": {},
   "outputs": [
    {
     "name": "stdout",
     "output_type": "stream",
     "text": [
      "<re.Match object; span=(17, 25), match='age : 10'>\n",
      "<class 're.Match'>\n",
      "['__class__', '__copy__', '__deepcopy__', '__delattr__', '__dir__', '__doc__', '__eq__', '__format__', '__ge__', '__getattribute__', '__getitem__', '__gt__', '__hash__', '__init__', '__init_subclass__', '__le__', '__lt__', '__ne__', '__new__', '__reduce__', '__reduce_ex__', '__repr__', '__setattr__', '__sizeof__', '__str__', '__subclasshook__', 'end', 'endpos', 'expand', 'group', 'groupdict', 'groups', 'lastgroup', 'lastindex', 'pos', 're', 'regs', 'span', 'start', 'string']\n"
     ]
    },
    {
     "data": {
      "text/plain": [
       "\"\\n'end', 'endpos', 'expand', 'group', 'groupdict', 'groups', 'lastgroup',\\n'lastindex', 'pos', 're', 'regs', 'span', 'start', 'string'\\n\""
      ]
     },
     "execution_count": 28,
     "metadata": {},
     "output_type": "execute_result"
    }
   ],
   "source": [
    "import re\n",
    "reg=r'([a-zA-Z]+) : (\\d+)'  # group1 : ([a-zA-Z]+) group2 : (\\d+)\n",
    "text = 'name : leehskkk, age : 10, height : 180, email : d-bla@abc.com'\n",
    "result = re.search(reg,text) # 처음에 매칭되는 패턴만 찾음\n",
    "print(result)\n",
    "print(type(result))\n",
    "print(dir(result))\n",
    "# <class 're.Match'>\n",
    "'''\n",
    "'end', 'endpos', 'expand', 'group', 'groupdict', 'groups', 'lastgroup',\n",
    "'lastindex', 'pos', 're', 'regs', 'span', 'start', 'string'\n",
    "'''\n"
   ]
  },
  {
   "cell_type": "code",
   "execution_count": 23,
   "metadata": {},
   "outputs": [
    {
     "data": {
      "text/plain": [
       "25"
      ]
     },
     "execution_count": 23,
     "metadata": {},
     "output_type": "execute_result"
    }
   ],
   "source": [
    "result.start() # match된 \n",
    "result.end()"
   ]
  },
  {
   "cell_type": "code",
   "execution_count": 24,
   "metadata": {},
   "outputs": [
    {
     "data": {
      "text/plain": [
       "'age : 10'"
      ]
     },
     "execution_count": 24,
     "metadata": {},
     "output_type": "execute_result"
    }
   ],
   "source": [
    "text[result.start():result.end()]"
   ]
  },
  {
   "cell_type": "code",
   "execution_count": 25,
   "metadata": {},
   "outputs": [
    {
     "name": "stdout",
     "output_type": "stream",
     "text": [
      "age : 10\n",
      "age\n",
      "10\n"
     ]
    }
   ],
   "source": [
    "print(result.group(0)) # 전체\n",
    "print(result.group(1)) # 1번 그룹\n",
    "print(result.group(2)) # 2번 그룹"
   ]
  },
  {
   "cell_type": "markdown",
   "metadata": {},
   "source": [
    "## tutorial 2"
   ]
  },
  {
   "cell_type": "code",
   "execution_count": 30,
   "metadata": {},
   "outputs": [
    {
     "data": {
      "text/plain": [
       "[('age', '10'), ('height', '180')]"
      ]
     },
     "execution_count": 30,
     "metadata": {},
     "output_type": "execute_result"
    }
   ],
   "source": [
    "reg=r'([a-zA-Z]+) : (\\d+)'  # group1 : ([a-zA-Z]+) group2 : (\\d+)\n",
    "text = 'name : leehskkk, age : 10, height : 180, email : d-bla@abc.com'\n",
    "result = re.findall(reg,text) # 정규표현식에 매칭되는 값 전체를 찾음\n",
    "result # list안의 Tuple 값으로 반환함"
   ]
  },
  {
   "cell_type": "code",
   "execution_count": 31,
   "metadata": {},
   "outputs": [
    {
     "data": {
      "text/plain": [
       "{'age': '10', 'height': '180'}"
      ]
     },
     "execution_count": 31,
     "metadata": {},
     "output_type": "execute_result"
    }
   ],
   "source": [
    "# 딕셔너리로 반환\n",
    "dict_result=dict(result)\n",
    "# dict로 변환 후 JSON등으로 변환 가능\n",
    "dict_result "
   ]
  },
  {
   "cell_type": "code",
   "execution_count": 32,
   "metadata": {},
   "outputs": [
    {
     "name": "stdout",
     "output_type": "stream",
     "text": [
      "<class 'list'>\n",
      "['__add__', '__class__', '__contains__', '__delattr__', '__delitem__', '__dir__', '__doc__', '__eq__', '__format__', '__ge__', '__getattribute__', '__getitem__', '__gt__', '__hash__', '__iadd__', '__imul__', '__init__', '__init_subclass__', '__iter__', '__le__', '__len__', '__lt__', '__mul__', '__ne__', '__new__', '__reduce__', '__reduce_ex__', '__repr__', '__reversed__', '__rmul__', '__setattr__', '__setitem__', '__sizeof__', '__str__', '__subclasshook__', 'append', 'clear', 'copy', 'count', 'extend', 'index', 'insert', 'pop', 'remove', 'reverse', 'sort']\n"
     ]
    }
   ],
   "source": [
    "print(type(result))\n",
    "print(dir(result))"
   ]
  },
  {
   "cell_type": "code",
   "execution_count": 43,
   "metadata": {},
   "outputs": [
    {
     "data": {
      "text/plain": [
       "<callable_iterator at 0x1c380243040>"
      ]
     },
     "execution_count": 43,
     "metadata": {},
     "output_type": "execute_result"
    }
   ],
   "source": [
    "reg=r'([a-zA-Z]+) : (\\d+)'  # group1 : ([a-zA-Z]+) group2 : (\\d+)\n",
    "text = 'name : leehskkk, age : 10, height : 180, email : d-bla@abc.com'\n",
    "result = re.finditer(reg,text) #iterable 객체로 반환\n",
    "result # iterator 생성 "
   ]
  },
  {
   "cell_type": "code",
   "execution_count": 44,
   "metadata": {},
   "outputs": [
    {
     "name": "stdout",
     "output_type": "stream",
     "text": [
      "<re.Match object; span=(17, 25), match='age : 10'>\n",
      "17 25\n",
      "age : 10\n",
      "age\n",
      "10\n",
      "<re.Match object; span=(27, 39), match='height : 180'>\n",
      "27 39\n",
      "height : 180\n",
      "height\n",
      "180\n"
     ]
    }
   ],
   "source": [
    "# for문 활용가능 \n",
    "for i in result:\n",
    "    print(i)\n",
    "    # print(type(i))\n",
    "    # print(dir(i))\n",
    "    print(i.start(),i.end())\n",
    "    print(i.group(0))\n",
    "    print(i.group(1))\n",
    "    print(i.group(2))"
   ]
  },
  {
   "cell_type": "markdown",
   "metadata": {},
   "source": [
    "## tutorial 3"
   ]
  },
  {
   "cell_type": "code",
   "execution_count": 47,
   "metadata": {},
   "outputs": [
    {
     "data": {
      "text/plain": [
       "['name : leehskkk, ',\n",
       " 'age',\n",
       " '10',\n",
       " ', ',\n",
       " 'height',\n",
       " '180',\n",
       " ', email : d-bla@abc.com']"
      ]
     },
     "execution_count": 47,
     "metadata": {},
     "output_type": "execute_result"
    }
   ],
   "source": [
    "reg=r'([a-zA-Z]+) : (\\d+)'  # group1 : ([a-zA-Z]+) group2 : (\\d+)\n",
    "text = 'name : leehskkk, age : 10, height : 180, email : d-bla@abc.com'\n",
    "result=re.split(reg,text,2) # 정규표현식 패턴 기준으로 분할\n",
    "# split (정규표현식, 문자열,[최대분할수])\n",
    "result # 패턴외 부분은 앞뒤로 list 저장"
   ]
  },
  {
   "cell_type": "code",
   "execution_count": 48,
   "metadata": {},
   "outputs": [
    {
     "data": {
      "text/plain": [
       "['name : leehskkk', ' age : 10', ' height : 180, email : d-bla@abc.com']"
      ]
     },
     "execution_count": 48,
     "metadata": {},
     "output_type": "execute_result"
    }
   ],
   "source": [
    "reg=r','  # comma로 설정\n",
    "text = 'name : leehskkk, age : 10, height : 180, email : d-bla@abc.com'\n",
    "result=re.split(reg,text,2) # 정규표현식 패턴 기준으로 분할\n",
    "# split (정규표현식, 문자열,[최대분할수])\n",
    "result # 패턴외 부분은 앞뒤로 list 저장"
   ]
  },
  {
   "cell_type": "code",
   "execution_count": null,
   "metadata": {},
   "outputs": [],
   "source": []
  }
 ],
 "metadata": {
  "kernelspec": {
   "display_name": "Python 3",
   "language": "python",
   "name": "python3"
  },
  "language_info": {
   "codemirror_mode": {
    "name": "ipython",
    "version": 3
   },
   "file_extension": ".py",
   "mimetype": "text/x-python",
   "name": "python",
   "nbconvert_exporter": "python",
   "pygments_lexer": "ipython3",
   "version": "3.8.5"
  },
  "toc": {
   "base_numbering": 1,
   "nav_menu": {},
   "number_sections": true,
   "sideBar": true,
   "skip_h1_title": false,
   "title_cell": "Table of Contents",
   "title_sidebar": "Contents",
   "toc_cell": false,
   "toc_position": {},
   "toc_section_display": true,
   "toc_window_display": true
  }
 },
 "nbformat": 4,
 "nbformat_minor": 4
}
