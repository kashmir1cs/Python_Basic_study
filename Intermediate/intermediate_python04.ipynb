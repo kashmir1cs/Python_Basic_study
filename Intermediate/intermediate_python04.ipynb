{
 "cells": [
  {
   "cell_type": "markdown",
   "metadata": {},
   "source": [
    "# 비동기 프로그래밍"
   ]
  },
  {
   "cell_type": "markdown",
   "metadata": {},
   "source": [
    "- 코루틴에 대한 이해 필요"
   ]
  },
  {
   "cell_type": "markdown",
   "metadata": {},
   "source": [
    "- 동기적 프로그래밍 : 순차적으로 작동,함수가 끝날때까지 다른 함수 작동 X"
   ]
  },
  {
   "cell_type": "code",
   "execution_count": 2,
   "metadata": {
    "ExecuteTime": {
     "end_time": "2021-12-20T13:50:51.520747Z",
     "start_time": "2021-12-20T13:50:33.361750Z"
    }
   },
   "outputs": [
    {
     "name": "stdout",
     "output_type": "stream",
     "text": [
      "1\n",
      "3\n",
      "6\n",
      "10\n",
      "15\n",
      "21\n",
      "28\n",
      "36\n",
      "45\n",
      "1\n",
      "3\n",
      "6\n",
      "10\n",
      "15\n",
      "21\n",
      "28\n",
      "36\n",
      "45\n",
      "걸린시간 : 18.142\n"
     ]
    }
   ],
   "source": [
    "import time\n",
    "# 1부터 10까지 1초에 하나식 더하는 함수 정의\n",
    "def foo():\n",
    "    res=0\n",
    "    for i in range(1,10):\n",
    "        res+=i\n",
    "        print(res)\n",
    "        time.sleep(1) # 1초간 sleep\n",
    "    return res\n",
    "start=time.time()\n",
    "foo()\n",
    "foo()\n",
    "\n",
    "end=time.time()\n",
    "\n",
    "# 소요 시간\n",
    "overall_time=round(end - start,3) # 소수 셋째자리 반올림\n",
    "\n",
    "print(f\"걸린시간 : {overall_time}\")\n",
    "\n",
    "    "
   ]
  },
  {
   "cell_type": "markdown",
   "metadata": {},
   "source": [
    "# asyncio import"
   ]
  },
  {
   "cell_type": "code",
   "execution_count": 7,
   "metadata": {
    "ExecuteTime": {
     "end_time": "2021-12-20T13:55:48.023035Z",
     "start_time": "2021-12-20T13:55:48.018050Z"
    }
   },
   "outputs": [],
   "source": [
    "# powershell 혹은 vscode에서 실행해야함\n",
    "import time\n",
    "import asyncio # 비동기적 프로그래밍을 위한 library\n",
    "\n",
    "async def foo():\n",
    "    res=0\n",
    "    for i in range(1,10):\n",
    "        res+=i\n",
    "        print(res)\n",
    "        await asyncio.sleep(1) # 1초간 sleep -> 두번째 함수를 진행함\n",
    "    return res\n",
    "# 시작 시작 확인하기\n",
    "start=time.time()\n",
    "# loop 생성후 반복\n",
    "# loop=asyncio.get_event_loop() \n",
    "# # gather를 이용하여 둘다 실행\n",
    "# loop.run_until_complete(asyncio.gather(foo(),foo())) # foo두개다 실행\n",
    "# loop.close()\n",
    "# 3.7버전 이후 loop이용하지 않고도 실행 가능\n",
    "asyncio.run(asyncio.wait([foo(),foo()]))\n",
    "\n",
    "end=time.time()\n",
    "# 소요 시간\n",
    "overall_time=round(end - start,3) # 소수 셋째자리 반올림\n",
    "\n",
    "print(f\"걸린시간 : {overall_time}\")\n"
   ]
  },
  {
   "cell_type": "code",
   "execution_count": null,
   "metadata": {},
   "outputs": [],
   "source": []
  }
 ],
 "metadata": {
  "kernelspec": {
   "display_name": "Python 3",
   "language": "python",
   "name": "python3"
  },
  "language_info": {
   "codemirror_mode": {
    "name": "ipython",
    "version": 3
   },
   "file_extension": ".py",
   "mimetype": "text/x-python",
   "name": "python",
   "nbconvert_exporter": "python",
   "pygments_lexer": "ipython3",
   "version": "3.8.5"
  },
  "toc": {
   "base_numbering": 1,
   "nav_menu": {},
   "number_sections": true,
   "sideBar": true,
   "skip_h1_title": false,
   "title_cell": "Table of Contents",
   "title_sidebar": "Contents",
   "toc_cell": false,
   "toc_position": {},
   "toc_section_display": true,
   "toc_window_display": true
  },
  "varInspector": {
   "cols": {
    "lenName": 16,
    "lenType": 16,
    "lenVar": 40
   },
   "kernels_config": {
    "python": {
     "delete_cmd_postfix": "",
     "delete_cmd_prefix": "del ",
     "library": "var_list.py",
     "varRefreshCmd": "print(var_dic_list())"
    },
    "r": {
     "delete_cmd_postfix": ") ",
     "delete_cmd_prefix": "rm(",
     "library": "var_list.r",
     "varRefreshCmd": "cat(var_dic_list()) "
    }
   },
   "types_to_exclude": [
    "module",
    "function",
    "builtin_function_or_method",
    "instance",
    "_Feature"
   ],
   "window_display": false
  }
 },
 "nbformat": 4,
 "nbformat_minor": 4
}
