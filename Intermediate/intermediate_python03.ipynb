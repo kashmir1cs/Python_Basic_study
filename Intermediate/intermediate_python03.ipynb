{
 "cells": [
  {
   "cell_type": "markdown",
   "metadata": {
    "ExecuteTime": {
     "end_time": "2021-12-14T14:02:38.860995Z",
     "start_time": "2021-12-14T14:02:38.844286Z"
    }
   },
   "source": [
    "# 파이썬 응용-03"
   ]
  },
  {
   "cell_type": "markdown",
   "metadata": {},
   "source": [
    "# heapq 사용"
   ]
  },
  {
   "cell_type": "code",
   "execution_count": 1,
   "metadata": {
    "ExecuteTime": {
     "end_time": "2021-12-14T15:25:44.023401Z",
     "start_time": "2021-12-14T15:25:44.008439Z"
    }
   },
   "outputs": [],
   "source": [
    "import random\n",
    "import heapq"
   ]
  },
  {
   "cell_type": "code",
   "execution_count": 2,
   "metadata": {
    "ExecuteTime": {
     "end_time": "2021-12-14T15:26:17.597190Z",
     "start_time": "2021-12-14T15:25:44.024396Z"
    }
   },
   "outputs": [
    {
     "name": "stdout",
     "output_type": "stream",
     "text": [
      "4.04 s ± 39.7 ms per loop (mean ± std. dev. of 7 runs, 1 loop each)\n"
     ]
    }
   ],
   "source": [
    "%%timeit\n",
    "heap=[random.randint(1,100000) for _ in range(5000000)]\n",
    "heap.sort()\n",
    "heap[0],heap[1],heap[2]"
   ]
  },
  {
   "cell_type": "code",
   "execution_count": 3,
   "metadata": {
    "ExecuteTime": {
     "end_time": "2021-12-14T15:26:43.239826Z",
     "start_time": "2021-12-14T15:26:17.598182Z"
    }
   },
   "outputs": [
    {
     "name": "stdout",
     "output_type": "stream",
     "text": [
      "3.13 s ± 17.5 ms per loop (mean ± std. dev. of 7 runs, 1 loop each)\n"
     ]
    }
   ],
   "source": [
    "%%timeit\n",
    "heap=[random.randint(1,100000) for _ in range(5000000)]\n",
    "heapq.heapify(heap)\n",
    "heapq.heappop(heap),heapq.heappop(heap),heapq.heappop(heap) # 기존리스트에서 하나씩 꺼내서 사용"
   ]
  },
  {
   "cell_type": "code",
   "execution_count": 4,
   "metadata": {
    "ExecuteTime": {
     "end_time": "2021-12-14T15:27:11.394738Z",
     "start_time": "2021-12-14T15:26:43.240823Z"
    }
   },
   "outputs": [
    {
     "name": "stdout",
     "output_type": "stream",
     "text": [
      "3.44 s ± 33.1 ms per loop (mean ± std. dev. of 7 runs, 1 loop each)\n"
     ]
    }
   ],
   "source": [
    "%%timeit\n",
    "heap=[]\n",
    "for _ in range(5000000):\n",
    "    heapq.heappush(heap,random.randint(1,100000))"
   ]
  },
  {
   "cell_type": "code",
   "execution_count": 5,
   "metadata": {
    "ExecuteTime": {
     "end_time": "2021-12-14T15:27:11.409917Z",
     "start_time": "2021-12-14T15:27:11.395740Z"
    }
   },
   "outputs": [
    {
     "name": "stdout",
     "output_type": "stream",
     "text": [
      "[6, 4, 8, 9, 10, 9, 7, 3, 8, 2]\n",
      "2 3 4\n",
      "[6, 8, 7, 9, 10, 9, 8]\n"
     ]
    }
   ],
   "source": [
    "heap=[random.randint(1,10) for _ in range(10)]\n",
    "print(heap)\n",
    "heapq.heapify(heap) # heapq로 변환\n",
    "print(heapq.heappop(heap),heapq.heappop(heap),heapq.heappop(heap))\n",
    "print(heap) # pop을 통해 하나씩 값을 꺼냄"
   ]
  },
  {
   "cell_type": "markdown",
   "metadata": {
    "ExecuteTime": {
     "end_time": "2021-12-14T14:12:05.286880Z",
     "start_time": "2021-12-14T14:12:05.280863Z"
    }
   },
   "source": [
    "# 프로파일링 : 코드 사용시간 분석"
   ]
  },
  {
   "cell_type": "code",
   "execution_count": 6,
   "metadata": {
    "ExecuteTime": {
     "end_time": "2021-12-14T15:27:11.425079Z",
     "start_time": "2021-12-14T15:27:11.410913Z"
    }
   },
   "outputs": [],
   "source": [
    "import random\n",
    "import cProfile #프로파일링 코드 "
   ]
  },
  {
   "cell_type": "markdown",
   "metadata": {},
   "source": [
    "## test 할 함수 만들기"
   ]
  },
  {
   "cell_type": "code",
   "execution_count": 7,
   "metadata": {
    "ExecuteTime": {
     "end_time": "2021-12-14T15:27:11.441042Z",
     "start_time": "2021-12-14T15:27:11.427076Z"
    }
   },
   "outputs": [
    {
     "name": "stdout",
     "output_type": "stream",
     "text": [
      "         16496 function calls (14497 primitive calls) in 0.005 seconds\n",
      "\n",
      "   Ordered by: standard name\n",
      "\n",
      "   ncalls  tottime  percall  cumtime  percall filename:lineno(function)\n",
      "   2000/1    0.002    0.000    0.003    0.003 <ipython-input-7-e83515e7a10e>:1(reverse_string)\n",
      "        1    0.000    0.000    0.005    0.005 <ipython-input-7-e83515e7a10e>:13(test_set)\n",
      "        1    0.001    0.001    0.003    0.003 <ipython-input-7-e83515e7a10e>:15(<listcomp>)\n",
      "        1    0.000    0.000    0.000    0.000 <ipython-input-7-e83515e7a10e>:6(reverse_slicing)\n",
      "        1    0.000    0.000    0.000    0.000 <ipython-input-7-e83515e7a10e>:8(reverse_iter)\n",
      "        1    0.000    0.000    0.005    0.005 <string>:1(<module>)\n",
      "     2000    0.001    0.000    0.001    0.000 random.py:200(randrange)\n",
      "     2000    0.000    0.000    0.002    0.000 random.py:244(randint)\n",
      "     2000    0.001    0.000    0.001    0.000 random.py:250(_randbelow_with_getrandbits)\n",
      "     2000    0.000    0.000    0.000    0.000 {built-in method builtins.chr}\n",
      "        1    0.000    0.000    0.005    0.005 {built-in method builtins.exec}\n",
      "     2000    0.000    0.000    0.000    0.000 {built-in method builtins.len}\n",
      "     2000    0.000    0.000    0.000    0.000 {method 'bit_length' of 'int' objects}\n",
      "        1    0.000    0.000    0.000    0.000 {method 'disable' of '_lsprof.Profiler' objects}\n",
      "     2488    0.000    0.000    0.000    0.000 {method 'getrandbits' of '_random.Random' objects}\n",
      "        1    0.000    0.000    0.000    0.000 {method 'join' of 'str' objects}\n",
      "\n",
      "\n"
     ]
    }
   ],
   "source": [
    "def reverse_string(s): #recursive\n",
    "    if len(s)==1:\n",
    "        return s #string 길이가 1이면 그대로 s 반환\n",
    "    else:\n",
    "        return reverse_string(s[1:])+s[0]\n",
    "def reverse_slicing(s):\n",
    "    return s[::-1] #거꾸로 하나씩 가져오기\n",
    "def reverse_iter(s):\n",
    "    answer=\"\"\n",
    "    for i in s:\n",
    "        answer=i+answer # 기존 값에 앞에다 새로운 문자열을 더함 =>역순으로 문자가 추가됨\n",
    "    return answer\n",
    "def test_set():\n",
    "    # join이용하여 문자열 list를 string으로 변환\n",
    "    s=\"\".join([chr(random.randint(97,122))for _ in range(2000)]) # 아스키코드 + 랜덤함수이용한 2000개 문자열 생성 (알파벳a-z)\n",
    "    reverse_string(s)\n",
    "    reverse_slicing(s)\n",
    "    reverse_iter(s)\n",
    "cProfile.run(\"test_set()\")"
   ]
  },
  {
   "cell_type": "markdown",
   "metadata": {},
   "source": [
    "# tqdm 활용"
   ]
  },
  {
   "cell_type": "code",
   "execution_count": 8,
   "metadata": {
    "ExecuteTime": {
     "end_time": "2021-12-14T15:27:11.456296Z",
     "start_time": "2021-12-14T15:27:11.443035Z"
    }
   },
   "outputs": [],
   "source": [
    "from tqdm import tqdm"
   ]
  },
  {
   "cell_type": "code",
   "execution_count": 9,
   "metadata": {
    "ExecuteTime": {
     "end_time": "2021-12-14T15:27:11.472144Z",
     "start_time": "2021-12-14T15:27:11.457054Z"
    }
   },
   "outputs": [],
   "source": [
    "import time"
   ]
  },
  {
   "cell_type": "code",
   "execution_count": 10,
   "metadata": {
    "ExecuteTime": {
     "end_time": "2021-12-14T15:27:16.530882Z",
     "start_time": "2021-12-14T15:27:11.473109Z"
    }
   },
   "outputs": [
    {
     "name": "stderr",
     "output_type": "stream",
     "text": [
      "100%|████████████████████████████████████████████████████████████████████████████████████| 5/5 [00:05<00:00,  1.01s/it]"
     ]
    },
    {
     "name": "stdout",
     "output_type": "stream",
     "text": [
      "hello\n"
     ]
    },
    {
     "name": "stderr",
     "output_type": "stream",
     "text": [
      "\n"
     ]
    }
   ],
   "source": [
    "s=\"\"\n",
    "for c in tqdm(['h','e','l','l','o']):\n",
    "    s+=c\n",
    "    time.sleep(1)\n",
    "print(s)"
   ]
  },
  {
   "cell_type": "code",
   "execution_count": 11,
   "metadata": {
    "ExecuteTime": {
     "end_time": "2021-12-14T15:27:26.631444Z",
     "start_time": "2021-12-14T15:27:16.531933Z"
    }
   },
   "outputs": [
    {
     "name": "stderr",
     "output_type": "stream",
     "text": [
      "진행율: 100%|██████████████████████████████████████████████████████████████████████████| 10/10 [00:10<00:00,  1.01s/it]"
     ]
    },
    {
     "name": "stdout",
     "output_type": "stream",
     "text": [
      "55\n"
     ]
    },
    {
     "name": "stderr",
     "output_type": "stream",
     "text": [
      "\n"
     ]
    }
   ],
   "source": [
    "s=0 \n",
    "for i in tqdm(range(1,11),desc=\"진행율\",mininterval=1):\n",
    "    s+=i\n",
    "    time.sleep(1)\n",
    "print(s)\n",
    "    "
   ]
  },
  {
   "cell_type": "markdown",
   "metadata": {},
   "source": [
    "# yaml파일 읽기"
   ]
  },
  {
   "cell_type": "code",
   "execution_count": 12,
   "metadata": {
    "ExecuteTime": {
     "end_time": "2021-12-14T15:27:26.663467Z",
     "start_time": "2021-12-14T15:27:26.632402Z"
    }
   },
   "outputs": [],
   "source": [
    "import yaml"
   ]
  },
  {
   "cell_type": "code",
   "execution_count": 13,
   "metadata": {
    "ExecuteTime": {
     "end_time": "2021-12-14T15:27:26.678938Z",
     "start_time": "2021-12-14T15:27:26.664465Z"
    }
   },
   "outputs": [
    {
     "name": "stderr",
     "output_type": "stream",
     "text": [
      "<ipython-input-13-b969c55ca6ca>:3: YAMLLoadWarning: calling yaml.load() without Loader=... is deprecated, as the default Loader is unsafe. Please read https://msg.pyyaml.org/load for full details.\n",
      "  data=yaml.load(text)\n"
     ]
    }
   ],
   "source": [
    "with open(\"test.yaml\",'r',encoding='UTF8') as f:\n",
    "    text=f.read()\n",
    "data=yaml.load(text)"
   ]
  },
  {
   "cell_type": "markdown",
   "metadata": {},
   "source": [
    "## data를 파이썬에 읽을 수 있는 형태로 변환"
   ]
  },
  {
   "cell_type": "code",
   "execution_count": 14,
   "metadata": {
    "ExecuteTime": {
     "end_time": "2021-12-14T15:27:26.694859Z",
     "start_time": "2021-12-14T15:27:26.680477Z"
    }
   },
   "outputs": [
    {
     "data": {
      "text/plain": [
       "{'name': {'first': 'ja', 'last': 'da'},\n",
       " 'company': {'name': 'see', '법인': True, '직원': ['김', '이', '박']}}"
      ]
     },
     "execution_count": 14,
     "metadata": {},
     "output_type": "execute_result"
    }
   ],
   "source": [
    "data"
   ]
  },
  {
   "cell_type": "code",
   "execution_count": 15,
   "metadata": {
    "ExecuteTime": {
     "end_time": "2021-12-14T15:27:26.710830Z",
     "start_time": "2021-12-14T15:27:26.695861Z"
    }
   },
   "outputs": [
    {
     "data": {
      "text/plain": [
       "'김'"
      ]
     },
     "execution_count": 15,
     "metadata": {},
     "output_type": "execute_result"
    }
   ],
   "source": [
    "data[\"company\"]['직원'][0]"
   ]
  },
  {
   "cell_type": "markdown",
   "metadata": {},
   "source": [
    "# under bar 이용한 숫자 표현"
   ]
  },
  {
   "cell_type": "code",
   "execution_count": 16,
   "metadata": {
    "ExecuteTime": {
     "end_time": "2021-12-14T15:27:26.725757Z",
     "start_time": "2021-12-14T15:27:26.712364Z"
    }
   },
   "outputs": [
    {
     "data": {
      "text/plain": [
       "4999950000"
      ]
     },
     "execution_count": 16,
     "metadata": {},
     "output_type": "execute_result"
    }
   ],
   "source": [
    "s=0\n",
    "for i in range(100_000): # 숫자 중간의 언더바는 무시함\n",
    "    s+=i\n",
    "s"
   ]
  },
  {
   "cell_type": "code",
   "execution_count": 17,
   "metadata": {
    "ExecuteTime": {
     "end_time": "2021-12-14T15:27:26.741287Z",
     "start_time": "2021-12-14T15:27:26.726755Z"
    }
   },
   "outputs": [
    {
     "data": {
      "text/plain": [
       "100000"
      ]
     },
     "execution_count": 17,
     "metadata": {},
     "output_type": "execute_result"
    }
   ],
   "source": [
    "100_000"
   ]
  },
  {
   "cell_type": "code",
   "execution_count": 18,
   "metadata": {
    "ExecuteTime": {
     "end_time": "2021-12-14T15:27:26.756332Z",
     "start_time": "2021-12-14T15:27:26.743282Z"
    }
   },
   "outputs": [
    {
     "data": {
      "text/plain": [
       "100000"
      ]
     },
     "execution_count": 18,
     "metadata": {},
     "output_type": "execute_result"
    }
   ],
   "source": [
    "10_0_000 #위치 상관없음(중간에 있으면)"
   ]
  },
  {
   "cell_type": "markdown",
   "metadata": {},
   "source": [
    "## for 문에서 _사용 가능\n",
    "\n"
   ]
  },
  {
   "cell_type": "code",
   "execution_count": 19,
   "metadata": {
    "ExecuteTime": {
     "end_time": "2021-12-14T15:27:26.771409Z",
     "start_time": "2021-12-14T15:27:26.757122Z"
    }
   },
   "outputs": [
    {
     "data": {
      "text/plain": [
       "9999900000"
      ]
     },
     "execution_count": 19,
     "metadata": {},
     "output_type": "execute_result"
    }
   ],
   "source": [
    "s=0\n",
    "for _ in range(100_000):\n",
    "    s+=i\n",
    "s\n",
    "    "
   ]
  },
  {
   "cell_type": "markdown",
   "metadata": {},
   "source": [
    "## for문 언더바 응용하기 : 자바스크립트에도 사용 가능\n"
   ]
  },
  {
   "cell_type": "code",
   "execution_count": 20,
   "metadata": {
    "ExecuteTime": {
     "end_time": "2021-12-14T15:27:26.802298Z",
     "start_time": "2021-12-14T15:27:26.772049Z"
    }
   },
   "outputs": [
    {
     "data": {
      "text/plain": [
       "9999900000"
      ]
     },
     "execution_count": 20,
     "metadata": {},
     "output_type": "execute_result"
    }
   ],
   "source": [
    "s=0\n",
    "value=[1,2,3,4,5,6]\n",
    "for _ in range(100_000): # 언더바는 한번만 사용할 것\n",
    "    a,_,*b=value # a=1, _=2,*b=[3,4,5,6]\n",
    "    s+=i\n",
    "s"
   ]
  },
  {
   "cell_type": "markdown",
   "metadata": {},
   "source": [
    "### 변수에 할당 된 값 확인하기"
   ]
  },
  {
   "cell_type": "code",
   "execution_count": 21,
   "metadata": {
    "ExecuteTime": {
     "end_time": "2021-12-14T15:27:26.818394Z",
     "start_time": "2021-12-14T15:27:26.803289Z"
    }
   },
   "outputs": [
    {
     "data": {
      "text/plain": [
       "(1, 2, [3, 4, 5, 6])"
      ]
     },
     "execution_count": 21,
     "metadata": {},
     "output_type": "execute_result"
    }
   ],
   "source": [
    "a,_,b"
   ]
  },
  {
   "cell_type": "markdown",
   "metadata": {},
   "source": [
    "# list append vs zip vs numpy "
   ]
  },
  {
   "cell_type": "code",
   "execution_count": 22,
   "metadata": {
    "ExecuteTime": {
     "end_time": "2021-12-14T15:27:26.834387Z",
     "start_time": "2021-12-14T15:27:26.821221Z"
    }
   },
   "outputs": [],
   "source": [
    "import time"
   ]
  },
  {
   "cell_type": "code",
   "execution_count": 43,
   "metadata": {
    "ExecuteTime": {
     "end_time": "2021-12-14T15:34:13.209575Z",
     "start_time": "2021-12-14T15:34:13.179632Z"
    }
   },
   "outputs": [
    {
     "name": "stdout",
     "output_type": "stream",
     "text": [
      "1000000 1000000\n"
     ]
    }
   ],
   "source": [
    "a=list(range(0,100_0000))\n",
    "b=list(range(100_0000,200_0000))\n",
    "print(len(a),len(b))"
   ]
  },
  {
   "cell_type": "markdown",
   "metadata": {},
   "source": [
    "## 반복문"
   ]
  },
  {
   "cell_type": "code",
   "execution_count": 44,
   "metadata": {
    "ExecuteTime": {
     "end_time": "2021-12-14T15:34:32.990096Z",
     "start_time": "2021-12-14T15:34:32.523587Z"
    }
   },
   "outputs": [
    {
     "name": "stdout",
     "output_type": "stream",
     "text": [
      "0.452545166015625\n"
     ]
    }
   ],
   "source": [
    "st=time.time()\n",
    "list_append=[]\n",
    "for i in range(len(a)):\n",
    "    list_append.append([a[i],b[i]])\n",
    "print(time.time()-st)\n",
    "    "
   ]
  },
  {
   "cell_type": "code",
   "execution_count": 45,
   "metadata": {
    "ExecuteTime": {
     "end_time": "2021-12-14T15:34:44.089543Z",
     "start_time": "2021-12-14T15:34:43.713279Z"
    }
   },
   "outputs": [
    {
     "name": "stdout",
     "output_type": "stream",
     "text": [
      "0.35826945304870605\n"
     ]
    }
   ],
   "source": [
    "st=time.time()\n",
    "list_z=list(zip(a,b))\n",
    "print(time.time()-st)"
   ]
  },
  {
   "cell_type": "markdown",
   "metadata": {},
   "source": [
    "## numpy 이용"
   ]
  },
  {
   "cell_type": "code",
   "execution_count": 46,
   "metadata": {
    "ExecuteTime": {
     "end_time": "2021-12-14T15:34:46.339888Z",
     "start_time": "2021-12-14T15:34:46.325457Z"
    }
   },
   "outputs": [],
   "source": [
    "import numpy as np"
   ]
  },
  {
   "cell_type": "code",
   "execution_count": 48,
   "metadata": {
    "ExecuteTime": {
     "end_time": "2021-12-14T15:34:50.462521Z",
     "start_time": "2021-12-14T15:34:50.447680Z"
    }
   },
   "outputs": [
    {
     "name": "stdout",
     "output_type": "stream",
     "text": [
      "1000000 1000000\n"
     ]
    }
   ],
   "source": [
    "a=np.arange(0,100_0000)\n",
    "b=np.arange(100_0000,200_0000)\n",
    "print(len(a),len(b))"
   ]
  },
  {
   "cell_type": "code",
   "execution_count": 42,
   "metadata": {
    "ExecuteTime": {
     "end_time": "2021-12-14T15:33:54.389215Z",
     "start_time": "2021-12-14T15:33:54.359178Z"
    }
   },
   "outputs": [],
   "source": [
    "arr=np.concatenate((a,b),axis=0)"
   ]
  },
  {
   "cell_type": "markdown",
   "metadata": {},
   "source": [
    "# iterator"
   ]
  },
  {
   "cell_type": "markdown",
   "metadata": {},
   "source": [
    "## iterator 예시"
   ]
  },
  {
   "cell_type": "code",
   "execution_count": 37,
   "metadata": {
    "ExecuteTime": {
     "end_time": "2021-12-14T15:32:32.442432Z",
     "start_time": "2021-12-14T15:32:32.429452Z"
    }
   },
   "outputs": [
    {
     "name": "stdout",
     "output_type": "stream",
     "text": [
      "1\n",
      "2\n",
      "3\n",
      "4\n",
      "5\n",
      "6\n",
      "7\n",
      "8\n",
      "9\n"
     ]
    }
   ],
   "source": [
    "for i in range(1,10): # range()개체가 반복가능한 개체 : 순회돌기 전에는 메모리점유 안함\n",
    "    print(i)"
   ]
  },
  {
   "cell_type": "code",
   "execution_count": 49,
   "metadata": {
    "ExecuteTime": {
     "end_time": "2021-12-14T15:35:10.349409Z",
     "start_time": "2021-12-14T15:35:10.331493Z"
    }
   },
   "outputs": [
    {
     "data": {
      "text/plain": [
       "<range_iterator at 0x1b9b159dd50>"
      ]
     },
     "execution_count": 49,
     "metadata": {},
     "output_type": "execute_result"
    }
   ],
   "source": [
    "range(1,10).__iter__()\n"
   ]
  },
  {
   "cell_type": "code",
   "execution_count": 50,
   "metadata": {
    "ExecuteTime": {
     "end_time": "2021-12-14T15:35:23.014274Z",
     "start_time": "2021-12-14T15:35:23.002319Z"
    }
   },
   "outputs": [
    {
     "data": {
      "text/plain": [
       "<range_iterator at 0x1b9b159df90>"
      ]
     },
     "execution_count": 50,
     "metadata": {},
     "output_type": "execute_result"
    }
   ],
   "source": [
    "iter(range(10))"
   ]
  },
  {
   "cell_type": "code",
   "execution_count": 62,
   "metadata": {
    "ExecuteTime": {
     "end_time": "2021-12-14T15:36:17.779480Z",
     "start_time": "2021-12-14T15:36:17.765019Z"
    }
   },
   "outputs": [
    {
     "data": {
      "text/plain": [
       "0"
      ]
     },
     "execution_count": 62,
     "metadata": {},
     "output_type": "execute_result"
    }
   ],
   "source": [
    "it=iter(range(10))\n",
    "next(it)"
   ]
  },
  {
   "cell_type": "code",
   "execution_count": 63,
   "metadata": {
    "ExecuteTime": {
     "end_time": "2021-12-14T15:36:19.717217Z",
     "start_time": "2021-12-14T15:36:19.702548Z"
    }
   },
   "outputs": [
    {
     "data": {
      "text/plain": [
       "1"
      ]
     },
     "execution_count": 63,
     "metadata": {},
     "output_type": "execute_result"
    }
   ],
   "source": [
    "next(it)"
   ]
  },
  {
   "cell_type": "code",
   "execution_count": 64,
   "metadata": {
    "ExecuteTime": {
     "end_time": "2021-12-14T15:36:21.605358Z",
     "start_time": "2021-12-14T15:36:21.591677Z"
    }
   },
   "outputs": [
    {
     "data": {
      "text/plain": [
       "2"
      ]
     },
     "execution_count": 64,
     "metadata": {},
     "output_type": "execute_result"
    }
   ],
   "source": [
    "next(it)"
   ]
  },
  {
   "cell_type": "code",
   "execution_count": 65,
   "metadata": {
    "ExecuteTime": {
     "end_time": "2021-12-14T15:36:23.496377Z",
     "start_time": "2021-12-14T15:36:23.481377Z"
    }
   },
   "outputs": [
    {
     "data": {
      "text/plain": [
       "3"
      ]
     },
     "execution_count": 65,
     "metadata": {},
     "output_type": "execute_result"
    }
   ],
   "source": [
    "next(it)\n"
   ]
  },
  {
   "cell_type": "code",
   "execution_count": 66,
   "metadata": {
    "ExecuteTime": {
     "end_time": "2021-12-14T15:36:25.410089Z",
     "start_time": "2021-12-14T15:36:25.397347Z"
    }
   },
   "outputs": [
    {
     "data": {
      "text/plain": [
       "4"
      ]
     },
     "execution_count": 66,
     "metadata": {},
     "output_type": "execute_result"
    }
   ],
   "source": [
    "next(it)\n"
   ]
  },
  {
   "cell_type": "code",
   "execution_count": 67,
   "metadata": {
    "ExecuteTime": {
     "end_time": "2021-12-14T15:36:27.313594Z",
     "start_time": "2021-12-14T15:36:27.299271Z"
    }
   },
   "outputs": [
    {
     "data": {
      "text/plain": [
       "5"
      ]
     },
     "execution_count": 67,
     "metadata": {},
     "output_type": "execute_result"
    }
   ],
   "source": [
    "next(it)"
   ]
  },
  {
   "cell_type": "code",
   "execution_count": 68,
   "metadata": {
    "ExecuteTime": {
     "end_time": "2021-12-14T15:36:29.260997Z",
     "start_time": "2021-12-14T15:36:29.247197Z"
    }
   },
   "outputs": [
    {
     "data": {
      "text/plain": [
       "6"
      ]
     },
     "execution_count": 68,
     "metadata": {},
     "output_type": "execute_result"
    }
   ],
   "source": [
    "next(it)\n"
   ]
  },
  {
   "cell_type": "code",
   "execution_count": 69,
   "metadata": {
    "ExecuteTime": {
     "end_time": "2021-12-14T15:36:31.441940Z",
     "start_time": "2021-12-14T15:36:31.434928Z"
    }
   },
   "outputs": [
    {
     "data": {
      "text/plain": [
       "7"
      ]
     },
     "execution_count": 69,
     "metadata": {},
     "output_type": "execute_result"
    }
   ],
   "source": [
    "next(it)\n"
   ]
  },
  {
   "cell_type": "code",
   "execution_count": 70,
   "metadata": {
    "ExecuteTime": {
     "end_time": "2021-12-14T15:36:33.399186Z",
     "start_time": "2021-12-14T15:36:33.384735Z"
    }
   },
   "outputs": [
    {
     "data": {
      "text/plain": [
       "8"
      ]
     },
     "execution_count": 70,
     "metadata": {},
     "output_type": "execute_result"
    }
   ],
   "source": [
    "next(it)\n"
   ]
  },
  {
   "cell_type": "code",
   "execution_count": 71,
   "metadata": {
    "ExecuteTime": {
     "end_time": "2021-12-14T15:36:35.339527Z",
     "start_time": "2021-12-14T15:36:35.324509Z"
    }
   },
   "outputs": [
    {
     "data": {
      "text/plain": [
       "9"
      ]
     },
     "execution_count": 71,
     "metadata": {},
     "output_type": "execute_result"
    }
   ],
   "source": [
    "next(it)"
   ]
  },
  {
   "cell_type": "code",
   "execution_count": 72,
   "metadata": {
    "ExecuteTime": {
     "end_time": "2021-12-14T15:36:37.289933Z",
     "start_time": "2021-12-14T15:36:37.275815Z"
    }
   },
   "outputs": [
    {
     "ename": "StopIteration",
     "evalue": "",
     "output_type": "error",
     "traceback": [
      "\u001b[1;31m---------------------------------------------------------------------------\u001b[0m",
      "\u001b[1;31mStopIteration\u001b[0m                             Traceback (most recent call last)",
      "\u001b[1;32m<ipython-input-72-bc1ab118995a>\u001b[0m in \u001b[0;36m<module>\u001b[1;34m\u001b[0m\n\u001b[1;32m----> 1\u001b[1;33m \u001b[0mnext\u001b[0m\u001b[1;33m(\u001b[0m\u001b[0mit\u001b[0m\u001b[1;33m)\u001b[0m\u001b[1;33m\u001b[0m\u001b[1;33m\u001b[0m\u001b[0m\n\u001b[0m",
      "\u001b[1;31mStopIteration\u001b[0m: "
     ]
    }
   ],
   "source": [
    "next(it) # 에러발생함"
   ]
  },
  {
   "cell_type": "markdown",
   "metadata": {
    "ExecuteTime": {
     "end_time": "2021-12-14T15:37:03.052387Z",
     "start_time": "2021-12-14T15:37:03.044372Z"
    }
   },
   "source": [
    "# coroutine "
   ]
  },
  {
   "cell_type": "markdown",
   "metadata": {},
   "source": [
    "- 제너레이터의 또다른 형태\n",
    "- 제너레이터는 함수를 실행하며 yield 키워드를 통해 하나씩 순서대로 값을 반환\n",
    "- 코루틴은 반대로 값을 외부에서 하나씩 받아서 함수를 실행 함"
   ]
  },
  {
   "cell_type": "code",
   "execution_count": 119,
   "metadata": {
    "ExecuteTime": {
     "end_time": "2021-12-14T15:44:41.324891Z",
     "start_time": "2021-12-14T15:44:41.316885Z"
    }
   },
   "outputs": [],
   "source": [
    "def get_three_number():\n",
    "    print(\"start\")\n",
    "    given=(yield)\n",
    "    print(given)\n",
    "    given=(yield)\n",
    "    print(given)\n",
    "    given=(yield)\n",
    "    print(given)\n",
    "    print(\"end\")"
   ]
  },
  {
   "cell_type": "code",
   "execution_count": 120,
   "metadata": {
    "ExecuteTime": {
     "end_time": "2021-12-14T15:44:43.259792Z",
     "start_time": "2021-12-14T15:44:43.244714Z"
    }
   },
   "outputs": [
    {
     "name": "stdout",
     "output_type": "stream",
     "text": [
      "<generator object get_three_number at 0x000001B98A36D740>\n"
     ]
    }
   ],
   "source": [
    "test= get_three_number()\n",
    "print(test)"
   ]
  },
  {
   "cell_type": "code",
   "execution_count": 121,
   "metadata": {
    "ExecuteTime": {
     "end_time": "2021-12-14T15:44:45.170454Z",
     "start_time": "2021-12-14T15:44:45.155975Z"
    }
   },
   "outputs": [
    {
     "name": "stdout",
     "output_type": "stream",
     "text": [
      "start\n"
     ]
    }
   ],
   "source": [
    "next(test)"
   ]
  },
  {
   "cell_type": "markdown",
   "metadata": {},
   "source": [
    "## send이용하여 값 전달"
   ]
  },
  {
   "cell_type": "code",
   "execution_count": 122,
   "metadata": {
    "ExecuteTime": {
     "end_time": "2021-12-14T15:44:47.087923Z",
     "start_time": "2021-12-14T15:44:47.073098Z"
    }
   },
   "outputs": [
    {
     "name": "stdout",
     "output_type": "stream",
     "text": [
      "100\n"
     ]
    }
   ],
   "source": [
    "test.send(100)"
   ]
  },
  {
   "cell_type": "code",
   "execution_count": 123,
   "metadata": {
    "ExecuteTime": {
     "end_time": "2021-12-14T15:44:49.005025Z",
     "start_time": "2021-12-14T15:44:48.990765Z"
    }
   },
   "outputs": [
    {
     "name": "stdout",
     "output_type": "stream",
     "text": [
      "1000\n"
     ]
    }
   ],
   "source": [
    "test.send(1000)"
   ]
  },
  {
   "cell_type": "code",
   "execution_count": 124,
   "metadata": {
    "ExecuteTime": {
     "end_time": "2021-12-14T15:44:50.952106Z",
     "start_time": "2021-12-14T15:44:50.937912Z"
    }
   },
   "outputs": [
    {
     "name": "stdout",
     "output_type": "stream",
     "text": [
      "10000\n",
      "end\n"
     ]
    },
    {
     "ename": "StopIteration",
     "evalue": "",
     "output_type": "error",
     "traceback": [
      "\u001b[1;31m---------------------------------------------------------------------------\u001b[0m",
      "\u001b[1;31mStopIteration\u001b[0m                             Traceback (most recent call last)",
      "\u001b[1;32m<ipython-input-124-bd3d382999f7>\u001b[0m in \u001b[0;36m<module>\u001b[1;34m\u001b[0m\n\u001b[1;32m----> 1\u001b[1;33m \u001b[0mtest\u001b[0m\u001b[1;33m.\u001b[0m\u001b[0msend\u001b[0m\u001b[1;33m(\u001b[0m\u001b[1;36m10000\u001b[0m\u001b[1;33m)\u001b[0m\u001b[1;33m\u001b[0m\u001b[1;33m\u001b[0m\u001b[0m\n\u001b[0m",
      "\u001b[1;31mStopIteration\u001b[0m: "
     ]
    }
   ],
   "source": [
    "test.send(10000)"
   ]
  },
  {
   "cell_type": "markdown",
   "metadata": {},
   "source": [
    "## 내부에서 연산 선언"
   ]
  },
  {
   "cell_type": "code",
   "execution_count": 125,
   "metadata": {
    "ExecuteTime": {
     "end_time": "2021-12-14T15:46:39.908973Z",
     "start_time": "2021-12-14T15:46:39.891980Z"
    }
   },
   "outputs": [],
   "source": [
    "def get_three_number():\n",
    "    given=0\n",
    "    print(\"start\")\n",
    "    given=(yield given)\n",
    "    print(f'받은 값 : {given}')\n",
    "    given+=1\n",
    "    given=(yield given)\n",
    "    print(f'받은 값 : {given}')\n",
    "    given+=1\n",
    "    given=(yield given)\n",
    "    print(f'받은 값 : {given}')\n",
    "    given+=1\n",
    "    yield given\n",
    "  "
   ]
  },
  {
   "cell_type": "code",
   "execution_count": 126,
   "metadata": {
    "ExecuteTime": {
     "end_time": "2021-12-14T15:46:54.670065Z",
     "start_time": "2021-12-14T15:46:54.654129Z"
    }
   },
   "outputs": [
    {
     "name": "stdout",
     "output_type": "stream",
     "text": [
      "start\n"
     ]
    },
    {
     "data": {
      "text/plain": [
       "0"
      ]
     },
     "execution_count": 126,
     "metadata": {},
     "output_type": "execute_result"
    }
   ],
   "source": [
    "g=get_three_number()\n",
    "g.send(None)"
   ]
  },
  {
   "cell_type": "code",
   "execution_count": 127,
   "metadata": {
    "ExecuteTime": {
     "end_time": "2021-12-14T15:47:02.296543Z",
     "start_time": "2021-12-14T15:47:02.291516Z"
    }
   },
   "outputs": [
    {
     "name": "stdout",
     "output_type": "stream",
     "text": [
      "받은 값 : 10\n"
     ]
    },
    {
     "data": {
      "text/plain": [
       "11"
      ]
     },
     "execution_count": 127,
     "metadata": {},
     "output_type": "execute_result"
    }
   ],
   "source": [
    "g.send(10) # 내부에서 연산"
   ]
  },
  {
   "cell_type": "code",
   "execution_count": 128,
   "metadata": {
    "ExecuteTime": {
     "end_time": "2021-12-14T15:47:23.497697Z",
     "start_time": "2021-12-14T15:47:23.491712Z"
    }
   },
   "outputs": [
    {
     "name": "stdout",
     "output_type": "stream",
     "text": [
      "받은 값 : 100\n"
     ]
    },
    {
     "data": {
      "text/plain": [
       "101"
      ]
     },
     "execution_count": 128,
     "metadata": {},
     "output_type": "execute_result"
    }
   ],
   "source": [
    "g.send(100)"
   ]
  },
  {
   "cell_type": "code",
   "execution_count": 129,
   "metadata": {
    "ExecuteTime": {
     "end_time": "2021-12-14T15:47:28.408886Z",
     "start_time": "2021-12-14T15:47:28.402902Z"
    }
   },
   "outputs": [
    {
     "name": "stdout",
     "output_type": "stream",
     "text": [
      "받은 값 : 1000\n"
     ]
    },
    {
     "data": {
      "text/plain": [
       "1001"
      ]
     },
     "execution_count": 129,
     "metadata": {},
     "output_type": "execute_result"
    }
   ],
   "source": [
    "g.send(1000)"
   ]
  },
  {
   "cell_type": "code",
   "execution_count": 130,
   "metadata": {
    "ExecuteTime": {
     "end_time": "2021-12-14T15:47:31.978753Z",
     "start_time": "2021-12-14T15:47:31.964760Z"
    }
   },
   "outputs": [
    {
     "ename": "StopIteration",
     "evalue": "",
     "output_type": "error",
     "traceback": [
      "\u001b[1;31m---------------------------------------------------------------------------\u001b[0m",
      "\u001b[1;31mStopIteration\u001b[0m                             Traceback (most recent call last)",
      "\u001b[1;32m<ipython-input-130-6280e3e19e3d>\u001b[0m in \u001b[0;36m<module>\u001b[1;34m\u001b[0m\n\u001b[1;32m----> 1\u001b[1;33m \u001b[0mg\u001b[0m\u001b[1;33m.\u001b[0m\u001b[0msend\u001b[0m\u001b[1;33m(\u001b[0m\u001b[1;36m10000\u001b[0m\u001b[1;33m)\u001b[0m\u001b[1;33m\u001b[0m\u001b[1;33m\u001b[0m\u001b[0m\n\u001b[0m",
      "\u001b[1;31mStopIteration\u001b[0m: "
     ]
    }
   ],
   "source": [
    "g.send(10000)"
   ]
  },
  {
   "cell_type": "code",
   "execution_count": null,
   "metadata": {},
   "outputs": [],
   "source": []
  }
 ],
 "metadata": {
  "kernelspec": {
   "display_name": "Python 3",
   "language": "python",
   "name": "python3"
  },
  "language_info": {
   "codemirror_mode": {
    "name": "ipython",
    "version": 3
   },
   "file_extension": ".py",
   "mimetype": "text/x-python",
   "name": "python",
   "nbconvert_exporter": "python",
   "pygments_lexer": "ipython3",
   "version": "3.8.5"
  },
  "toc": {
   "base_numbering": 1,
   "nav_menu": {},
   "number_sections": true,
   "sideBar": true,
   "skip_h1_title": false,
   "title_cell": "Table of Contents",
   "title_sidebar": "Contents",
   "toc_cell": false,
   "toc_position": {},
   "toc_section_display": true,
   "toc_window_display": true
  },
  "varInspector": {
   "cols": {
    "lenName": 16,
    "lenType": 16,
    "lenVar": 40
   },
   "kernels_config": {
    "python": {
     "delete_cmd_postfix": "",
     "delete_cmd_prefix": "del ",
     "library": "var_list.py",
     "varRefreshCmd": "print(var_dic_list())"
    },
    "r": {
     "delete_cmd_postfix": ") ",
     "delete_cmd_prefix": "rm(",
     "library": "var_list.r",
     "varRefreshCmd": "cat(var_dic_list()) "
    }
   },
   "types_to_exclude": [
    "module",
    "function",
    "builtin_function_or_method",
    "instance",
    "_Feature"
   ],
   "window_display": false
  }
 },
 "nbformat": 4,
 "nbformat_minor": 4
}
