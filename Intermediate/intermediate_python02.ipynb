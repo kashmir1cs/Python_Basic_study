{
 "cells": [
  {
   "cell_type": "markdown",
   "metadata": {},
   "source": [
    "# python 응용-02"
   ]
  },
  {
   "cell_type": "markdown",
   "metadata": {},
   "source": [
    "-----\n",
    "# 제너레이터 이용한 특정값 무한 반복자 만들기\n",
    "-----"
   ]
  },
  {
   "cell_type": "code",
   "execution_count": 1,
   "metadata": {
    "ExecuteTime": {
     "end_time": "2021-12-14T13:54:22.630327Z",
     "start_time": "2021-12-14T13:54:22.617315Z"
    }
   },
   "outputs": [],
   "source": [
    "def range_1_to_4():\n",
    "    yield 1\n",
    "    yield 2\n",
    "    yield 3\n",
    "    "
   ]
  },
  {
   "cell_type": "code",
   "execution_count": 2,
   "metadata": {
    "ExecuteTime": {
     "end_time": "2021-12-14T13:54:23.126994Z",
     "start_time": "2021-12-14T13:54:23.120017Z"
    }
   },
   "outputs": [
    {
     "name": "stdout",
     "output_type": "stream",
     "text": [
      "1\n",
      "2\n",
      "3\n"
     ]
    }
   ],
   "source": [
    "for i in range_1_to_4():\n",
    "    print(i)"
   ]
  },
  {
   "cell_type": "markdown",
   "metadata": {},
   "source": [
    "## generator인것 확인하기"
   ]
  },
  {
   "cell_type": "code",
   "execution_count": 3,
   "metadata": {
    "ExecuteTime": {
     "end_time": "2021-12-14T13:54:23.928638Z",
     "start_time": "2021-12-14T13:54:23.912717Z"
    }
   },
   "outputs": [
    {
     "data": {
      "text/plain": [
       "<generator object range_1_to_4 at 0x00000243D0CC30B0>"
      ]
     },
     "execution_count": 3,
     "metadata": {},
     "output_type": "execute_result"
    }
   ],
   "source": [
    "range_1_to_4()"
   ]
  },
  {
   "cell_type": "markdown",
   "metadata": {},
   "source": [
    "## 값을 하나씩 출력하기"
   ]
  },
  {
   "cell_type": "code",
   "execution_count": 4,
   "metadata": {
    "ExecuteTime": {
     "end_time": "2021-12-14T13:54:24.362897Z",
     "start_time": "2021-12-14T13:54:24.352891Z"
    }
   },
   "outputs": [],
   "source": [
    "g=range_1_to_4()"
   ]
  },
  {
   "cell_type": "markdown",
   "metadata": {},
   "source": [
    "### next()활용하기"
   ]
  },
  {
   "cell_type": "code",
   "execution_count": 5,
   "metadata": {
    "ExecuteTime": {
     "end_time": "2021-12-14T13:54:25.174535Z",
     "start_time": "2021-12-14T13:54:25.169549Z"
    }
   },
   "outputs": [
    {
     "data": {
      "text/plain": [
       "1"
      ]
     },
     "execution_count": 5,
     "metadata": {},
     "output_type": "execute_result"
    }
   ],
   "source": [
    "next(g)"
   ]
  },
  {
   "cell_type": "code",
   "execution_count": 6,
   "metadata": {
    "ExecuteTime": {
     "end_time": "2021-12-14T13:54:25.407426Z",
     "start_time": "2021-12-14T13:54:25.401442Z"
    }
   },
   "outputs": [
    {
     "data": {
      "text/plain": [
       "2"
      ]
     },
     "execution_count": 6,
     "metadata": {},
     "output_type": "execute_result"
    }
   ],
   "source": [
    "next(g)"
   ]
  },
  {
   "cell_type": "code",
   "execution_count": 7,
   "metadata": {
    "ExecuteTime": {
     "end_time": "2021-12-14T13:54:25.608686Z",
     "start_time": "2021-12-14T13:54:25.600634Z"
    }
   },
   "outputs": [
    {
     "data": {
      "text/plain": [
       "3"
      ]
     },
     "execution_count": 7,
     "metadata": {},
     "output_type": "execute_result"
    }
   ],
   "source": [
    "next(g)"
   ]
  },
  {
   "cell_type": "markdown",
   "metadata": {
    "ExecuteTime": {
     "end_time": "2021-12-14T11:09:39.973769Z",
     "start_time": "2021-12-14T11:09:39.962325Z"
    }
   },
   "source": [
    "### 정해진 값보다 많이 next()실행할 경우 에러 발생"
   ]
  },
  {
   "cell_type": "code",
   "execution_count": 8,
   "metadata": {
    "ExecuteTime": {
     "end_time": "2021-12-14T13:54:26.197593Z",
     "start_time": "2021-12-14T13:54:26.018074Z"
    }
   },
   "outputs": [
    {
     "ename": "StopIteration",
     "evalue": "",
     "output_type": "error",
     "traceback": [
      "\u001b[1;31m---------------------------------------------------------------------------\u001b[0m",
      "\u001b[1;31mStopIteration\u001b[0m                             Traceback (most recent call last)",
      "\u001b[1;32m<ipython-input-8-e734f8aca5ac>\u001b[0m in \u001b[0;36m<module>\u001b[1;34m\u001b[0m\n\u001b[1;32m----> 1\u001b[1;33m \u001b[0mnext\u001b[0m\u001b[1;33m(\u001b[0m\u001b[0mg\u001b[0m\u001b[1;33m)\u001b[0m\u001b[1;33m\u001b[0m\u001b[1;33m\u001b[0m\u001b[0m\n\u001b[0m",
      "\u001b[1;31mStopIteration\u001b[0m: "
     ]
    }
   ],
   "source": [
    "next(g)"
   ]
  },
  {
   "cell_type": "markdown",
   "metadata": {},
   "source": [
    "## generator 표현식"
   ]
  },
  {
   "cell_type": "code",
   "execution_count": 9,
   "metadata": {
    "ExecuteTime": {
     "end_time": "2021-12-14T13:54:26.695892Z",
     "start_time": "2021-12-14T13:54:26.680931Z"
    }
   },
   "outputs": [],
   "source": [
    "g=(i for i in range(1,4))"
   ]
  },
  {
   "cell_type": "code",
   "execution_count": 10,
   "metadata": {
    "ExecuteTime": {
     "end_time": "2021-12-14T13:54:27.406256Z",
     "start_time": "2021-12-14T13:54:27.393259Z"
    }
   },
   "outputs": [
    {
     "data": {
      "text/plain": [
       "<generator object <genexpr> at 0x00000243D1D50B30>"
      ]
     },
     "execution_count": 10,
     "metadata": {},
     "output_type": "execute_result"
    }
   ],
   "source": [
    "g"
   ]
  },
  {
   "cell_type": "markdown",
   "metadata": {},
   "source": [
    "### generator 개체 인 것 확인하기"
   ]
  },
  {
   "cell_type": "code",
   "execution_count": 11,
   "metadata": {
    "ExecuteTime": {
     "end_time": "2021-12-14T13:54:27.871906Z",
     "start_time": "2021-12-14T13:54:27.857902Z"
    }
   },
   "outputs": [
    {
     "name": "stdout",
     "output_type": "stream",
     "text": [
      "1\n",
      "2\n",
      "3\n"
     ]
    }
   ],
   "source": [
    "for i in g:\n",
    "    print(i)"
   ]
  },
  {
   "cell_type": "markdown",
   "metadata": {},
   "source": [
    "### 반복자 + while 문 활용한 무한 반복"
   ]
  },
  {
   "cell_type": "code",
   "execution_count": 12,
   "metadata": {
    "ExecuteTime": {
     "end_time": "2021-12-14T13:54:28.478301Z",
     "start_time": "2021-12-14T13:54:28.465365Z"
    }
   },
   "outputs": [],
   "source": [
    "def iter_by_iterator(iter_n):\n",
    "    if iter_n:\n",
    "        while True: # 참인 동안 반복\n",
    "            for i in iter_n: #iter_n의 개체의 구성요소를 하나씩 꺼냄 (string이면 한글자씩 , list면 요소 하나씩)\n",
    "                yield i # 참인 동안 i를 순차적으로 i를 반복적으로 출력\n",
    "        "
   ]
  },
  {
   "cell_type": "markdown",
   "metadata": {},
   "source": [
    "#### iterator 생성 확인"
   ]
  },
  {
   "cell_type": "code",
   "execution_count": 13,
   "metadata": {
    "ExecuteTime": {
     "end_time": "2021-12-14T13:54:29.474475Z",
     "start_time": "2021-12-14T13:54:29.457521Z"
    }
   },
   "outputs": [
    {
     "data": {
      "text/plain": [
       "<generator object iter_by_iterator at 0x00000243D1D65190>"
      ]
     },
     "execution_count": 13,
     "metadata": {},
     "output_type": "execute_result"
    }
   ],
   "source": [
    "iter_by_iterator(\"abc\")"
   ]
  },
  {
   "cell_type": "markdown",
   "metadata": {},
   "source": [
    "### 반복자 예제"
   ]
  },
  {
   "cell_type": "markdown",
   "metadata": {},
   "source": [
    "- zip함수를 사용, 반복자 생성함수와 결함된 변수 길이 만큼 정해진 값을 반복"
   ]
  },
  {
   "cell_type": "code",
   "execution_count": 14,
   "metadata": {
    "ExecuteTime": {
     "end_time": "2021-12-14T13:54:30.206780Z",
     "start_time": "2021-12-14T13:54:30.200765Z"
    }
   },
   "outputs": [
    {
     "data": {
      "text/plain": [
       "[(0, 'a'),\n",
       " (1, 'b'),\n",
       " (2, 'c'),\n",
       " (3, 'a'),\n",
       " (4, 'b'),\n",
       " (5, 'c'),\n",
       " (6, 'a'),\n",
       " (7, 'b'),\n",
       " (8, 'c'),\n",
       " (9, 'a')]"
      ]
     },
     "execution_count": 14,
     "metadata": {},
     "output_type": "execute_result"
    }
   ],
   "source": [
    "list(zip(range(10),iter_by_iterator('abc')))"
   ]
  },
  {
   "cell_type": "code",
   "execution_count": 15,
   "metadata": {
    "ExecuteTime": {
     "end_time": "2021-12-14T13:54:30.626378Z",
     "start_time": "2021-12-14T13:54:30.609423Z"
    }
   },
   "outputs": [
    {
     "data": {
      "text/plain": [
       "[('r', 'a'),\n",
       " ('a', 'b'),\n",
       " ('n', 'c'),\n",
       " ('g', 'a'),\n",
       " ('e', 'b'),\n",
       " ('(', 'c'),\n",
       " ('1', 'a'),\n",
       " ('0', 'b'),\n",
       " (')', 'c')]"
      ]
     },
     "execution_count": 15,
     "metadata": {},
     "output_type": "execute_result"
    }
   ],
   "source": [
    "list(zip(\"range(10)\",iter_by_iterator('abc')))"
   ]
  },
  {
   "cell_type": "code",
   "execution_count": 16,
   "metadata": {
    "ExecuteTime": {
     "end_time": "2021-12-14T13:54:30.999921Z",
     "start_time": "2021-12-14T13:54:30.992970Z"
    }
   },
   "outputs": [
    {
     "data": {
      "text/plain": [
       "[('1', 'a'),\n",
       " ('1', 'b'),\n",
       " ('2', 'c'),\n",
       " ('2', 'a'),\n",
       " ('3', 'b'),\n",
       " ('3', 'c'),\n",
       " ('3', 'a'),\n",
       " ('4', 'b'),\n",
       " ('4', 'c'),\n",
       " ('4', 'a'),\n",
       " ('4', 'b'),\n",
       " ('5', 'c'),\n",
       " ('5', 'a'),\n",
       " ('5', 'b'),\n",
       " ('5', 'c')]"
      ]
     },
     "execution_count": 16,
     "metadata": {},
     "output_type": "execute_result"
    }
   ],
   "source": [
    "list(zip(\"112233344445555\",iter_by_iterator('abc')))"
   ]
  },
  {
   "cell_type": "code",
   "execution_count": 17,
   "metadata": {
    "ExecuteTime": {
     "end_time": "2021-12-14T13:54:32.185280Z",
     "start_time": "2021-12-14T13:54:32.177300Z"
    }
   },
   "outputs": [],
   "source": [
    "l=[[x,y] for x,y in zip(\"112233344445555\",iter_by_iterator('abc'))]"
   ]
  },
  {
   "cell_type": "code",
   "execution_count": 18,
   "metadata": {
    "ExecuteTime": {
     "end_time": "2021-12-14T13:54:32.902923Z",
     "start_time": "2021-12-14T13:54:32.896934Z"
    }
   },
   "outputs": [
    {
     "data": {
      "text/plain": [
       "[['1', 'a'],\n",
       " ['1', 'b'],\n",
       " ['2', 'c'],\n",
       " ['2', 'a'],\n",
       " ['3', 'b'],\n",
       " ['3', 'c'],\n",
       " ['3', 'a'],\n",
       " ['4', 'b'],\n",
       " ['4', 'c'],\n",
       " ['4', 'a'],\n",
       " ['4', 'b'],\n",
       " ['5', 'c'],\n",
       " ['5', 'a'],\n",
       " ['5', 'b'],\n",
       " ['5', 'c']]"
      ]
     },
     "execution_count": 18,
     "metadata": {},
     "output_type": "execute_result"
    }
   ],
   "source": [
    "l"
   ]
  },
  {
   "cell_type": "markdown",
   "metadata": {},
   "source": [
    "## Dictionary Unpacking"
   ]
  },
  {
   "cell_type": "code",
   "execution_count": 19,
   "metadata": {
    "ExecuteTime": {
     "end_time": "2021-12-14T13:54:33.699652Z",
     "start_time": "2021-12-14T13:54:33.687648Z"
    }
   },
   "outputs": [],
   "source": [
    "test={\"one\":100, \"two\":200}"
   ]
  },
  {
   "cell_type": "code",
   "execution_count": 20,
   "metadata": {
    "ExecuteTime": {
     "end_time": "2021-12-14T13:54:34.119876Z",
     "start_time": "2021-12-14T13:54:34.105916Z"
    }
   },
   "outputs": [
    {
     "data": {
      "text/plain": [
       "('one', 'two')"
      ]
     },
     "execution_count": 20,
     "metadata": {},
     "output_type": "execute_result"
    }
   ],
   "source": [
    "a,b=test\n",
    "a,b"
   ]
  },
  {
   "cell_type": "markdown",
   "metadata": {
    "ExecuteTime": {
     "end_time": "2021-12-14T13:22:12.909689Z",
     "start_time": "2021-12-14T13:22:12.896302Z"
    }
   },
   "source": [
    "### json 형태의 dictionary"
   ]
  },
  {
   "cell_type": "code",
   "execution_count": 21,
   "metadata": {
    "ExecuteTime": {
     "end_time": "2021-12-14T13:54:34.758445Z",
     "start_time": "2021-12-14T13:54:34.745514Z"
    }
   },
   "outputs": [],
   "source": [
    "test_=[{\"one\":100, \"two\":200},{\"three\":300, \"four\":400}]"
   ]
  },
  {
   "cell_type": "code",
   "execution_count": 22,
   "metadata": {
    "ExecuteTime": {
     "end_time": "2021-12-14T13:54:35.039346Z",
     "start_time": "2021-12-14T13:54:35.025324Z"
    }
   },
   "outputs": [
    {
     "name": "stdout",
     "output_type": "stream",
     "text": [
      "one two\n",
      "three four\n"
     ]
    }
   ],
   "source": [
    "for i,j in test_:\n",
    "    print(i,j)"
   ]
  },
  {
   "cell_type": "markdown",
   "metadata": {},
   "source": [
    "### Data 상호 교환"
   ]
  },
  {
   "cell_type": "code",
   "execution_count": 23,
   "metadata": {
    "ExecuteTime": {
     "end_time": "2021-12-14T13:54:35.565395Z",
     "start_time": "2021-12-14T13:54:35.561448Z"
    }
   },
   "outputs": [
    {
     "data": {
      "text/plain": [
       "('two', 'one')"
      ]
     },
     "execution_count": 23,
     "metadata": {},
     "output_type": "execute_result"
    }
   ],
   "source": [
    "a,b=b,a\n",
    "a,b"
   ]
  },
  {
   "cell_type": "markdown",
   "metadata": {},
   "source": [
    "### unpacking"
   ]
  },
  {
   "cell_type": "code",
   "execution_count": 24,
   "metadata": {
    "ExecuteTime": {
     "end_time": "2021-12-14T13:54:36.108078Z",
     "start_time": "2021-12-14T13:54:36.102088Z"
    }
   },
   "outputs": [],
   "source": [
    "def unpacking(a,b=None):\n",
    "    return(a,b)"
   ]
  },
  {
   "cell_type": "code",
   "execution_count": 25,
   "metadata": {
    "ExecuteTime": {
     "end_time": "2021-12-14T13:54:36.403102Z",
     "start_time": "2021-12-14T13:54:36.385115Z"
    }
   },
   "outputs": [
    {
     "data": {
      "text/plain": [
       "({'one': 100, 'two': 200}, None)"
      ]
     },
     "execution_count": 25,
     "metadata": {},
     "output_type": "execute_result"
    }
   ],
   "source": [
    "unpacking(test)"
   ]
  },
  {
   "cell_type": "markdown",
   "metadata": {},
   "source": [
    "## zen of python"
   ]
  },
  {
   "cell_type": "code",
   "execution_count": 26,
   "metadata": {
    "ExecuteTime": {
     "end_time": "2021-12-14T13:54:36.907813Z",
     "start_time": "2021-12-14T13:54:36.897874Z"
    }
   },
   "outputs": [
    {
     "name": "stdout",
     "output_type": "stream",
     "text": [
      "The Zen of Python, by Tim Peters\n",
      "\n",
      "Beautiful is better than ugly.\n",
      "Explicit is better than implicit.\n",
      "Simple is better than complex.\n",
      "Complex is better than complicated.\n",
      "Flat is better than nested.\n",
      "Sparse is better than dense.\n",
      "Readability counts.\n",
      "Special cases aren't special enough to break the rules.\n",
      "Although practicality beats purity.\n",
      "Errors should never pass silently.\n",
      "Unless explicitly silenced.\n",
      "In the face of ambiguity, refuse the temptation to guess.\n",
      "There should be one-- and preferably only one --obvious way to do it.\n",
      "Although that way may not be obvious at first unless you're Dutch.\n",
      "Now is better than never.\n",
      "Although never is often better than *right* now.\n",
      "If the implementation is hard to explain, it's a bad idea.\n",
      "If the implementation is easy to explain, it may be a good idea.\n",
      "Namespaces are one honking great idea -- let's do more of those!\n"
     ]
    }
   ],
   "source": [
    "import this"
   ]
  },
  {
   "cell_type": "markdown",
   "metadata": {},
   "source": [
    "## PEP8 : 파이썬 공식가이드"
   ]
  },
  {
   "cell_type": "markdown",
   "metadata": {},
   "source": [
    "## 부동소수점 해결하기"
   ]
  },
  {
   "cell_type": "markdown",
   "metadata": {},
   "source": [
    "\n",
    "### 0.1+0.2는 0.3이 아니다"
   ]
  },
  {
   "cell_type": "markdown",
   "metadata": {},
   "source": [
    "#### 부동소수점 에러 사례들"
   ]
  },
  {
   "cell_type": "code",
   "execution_count": 27,
   "metadata": {
    "ExecuteTime": {
     "end_time": "2021-12-14T13:54:38.072903Z",
     "start_time": "2021-12-14T13:54:38.063923Z"
    }
   },
   "outputs": [
    {
     "data": {
      "text/plain": [
       "0.30000000000000004"
      ]
     },
     "execution_count": 27,
     "metadata": {},
     "output_type": "execute_result"
    }
   ],
   "source": [
    "0.1+0.2"
   ]
  },
  {
   "cell_type": "code",
   "execution_count": 28,
   "metadata": {
    "ExecuteTime": {
     "end_time": "2021-12-14T13:54:38.242946Z",
     "start_time": "2021-12-14T13:54:38.232971Z"
    }
   },
   "outputs": [
    {
     "data": {
      "text/plain": [
       "False"
      ]
     },
     "execution_count": 28,
     "metadata": {},
     "output_type": "execute_result"
    }
   ],
   "source": [
    "0.1+0.2==0.3"
   ]
  },
  {
   "cell_type": "markdown",
   "metadata": {},
   "source": [
    "#### 2진소수는 부동소수점 문제 없음"
   ]
  },
  {
   "cell_type": "code",
   "execution_count": 29,
   "metadata": {
    "ExecuteTime": {
     "end_time": "2021-12-14T13:54:38.555842Z",
     "start_time": "2021-12-14T13:54:38.545867Z"
    }
   },
   "outputs": [
    {
     "data": {
      "text/plain": [
       "True"
      ]
     },
     "execution_count": 29,
     "metadata": {},
     "output_type": "execute_result"
    }
   ],
   "source": [
    "0.25*2==0.5"
   ]
  },
  {
   "cell_type": "code",
   "execution_count": 30,
   "metadata": {
    "ExecuteTime": {
     "end_time": "2021-12-14T13:54:38.711068Z",
     "start_time": "2021-12-14T13:54:38.697102Z"
    }
   },
   "outputs": [
    {
     "data": {
      "text/plain": [
       "0.010000000000000002"
      ]
     },
     "execution_count": 30,
     "metadata": {},
     "output_type": "execute_result"
    }
   ],
   "source": [
    "0.1*0.1"
   ]
  },
  {
   "cell_type": "code",
   "execution_count": 31,
   "metadata": {
    "ExecuteTime": {
     "end_time": "2021-12-14T13:54:38.881710Z",
     "start_time": "2021-12-14T13:54:38.864779Z"
    }
   },
   "outputs": [
    {
     "data": {
      "text/plain": [
       "0.30000000000000004"
      ]
     },
     "execution_count": 31,
     "metadata": {},
     "output_type": "execute_result"
    }
   ],
   "source": [
    "0.1*3"
   ]
  },
  {
   "cell_type": "markdown",
   "metadata": {},
   "source": [
    "### 해결 방안"
   ]
  },
  {
   "cell_type": "markdown",
   "metadata": {},
   "source": [
    "#### decimal import하여 활용"
   ]
  },
  {
   "cell_type": "code",
   "execution_count": 32,
   "metadata": {
    "ExecuteTime": {
     "end_time": "2021-12-14T13:54:39.379159Z",
     "start_time": "2021-12-14T13:54:39.361208Z"
    }
   },
   "outputs": [
    {
     "data": {
      "text/plain": [
       "Decimal('0.1000000000000000055511151231257827021181583404541015625')"
      ]
     },
     "execution_count": 32,
     "metadata": {},
     "output_type": "execute_result"
    }
   ],
   "source": [
    "import decimal\n",
    "#2진수로는 무한수\n",
    "decimal.Decimal(0.1) #실제 2진수로 변환된 값"
   ]
  },
  {
   "cell_type": "markdown",
   "metadata": {},
   "source": [
    "#### string 값 이용"
   ]
  },
  {
   "cell_type": "code",
   "execution_count": 33,
   "metadata": {
    "ExecuteTime": {
     "end_time": "2021-12-14T13:54:39.690854Z",
     "start_time": "2021-12-14T13:54:39.672903Z"
    }
   },
   "outputs": [
    {
     "data": {
      "text/plain": [
       "Decimal('0.1')"
      ]
     },
     "execution_count": 33,
     "metadata": {},
     "output_type": "execute_result"
    }
   ],
   "source": [
    "decimal.Decimal(\"0.1\")"
   ]
  },
  {
   "cell_type": "markdown",
   "metadata": {},
   "source": [
    "#### float와 decimal 조합하여 사용"
   ]
  },
  {
   "cell_type": "code",
   "execution_count": 34,
   "metadata": {
    "ExecuteTime": {
     "end_time": "2021-12-14T13:54:40.033288Z",
     "start_time": "2021-12-14T13:54:40.025274Z"
    }
   },
   "outputs": [
    {
     "data": {
      "text/plain": [
       "0.30000000000000004"
      ]
     },
     "execution_count": 34,
     "metadata": {},
     "output_type": "execute_result"
    }
   ],
   "source": [
    "float(0.1*3)"
   ]
  },
  {
   "cell_type": "code",
   "execution_count": 35,
   "metadata": {
    "ExecuteTime": {
     "end_time": "2021-12-14T13:54:40.202718Z",
     "start_time": "2021-12-14T13:54:40.192934Z"
    }
   },
   "outputs": [
    {
     "data": {
      "text/plain": [
       "0.3"
      ]
     },
     "execution_count": 35,
     "metadata": {},
     "output_type": "execute_result"
    }
   ],
   "source": [
    "float(decimal.Decimal(\"0.1\")*3)"
   ]
  },
  {
   "cell_type": "code",
   "execution_count": 36,
   "metadata": {
    "ExecuteTime": {
     "end_time": "2021-12-14T13:54:40.356707Z",
     "start_time": "2021-12-14T13:54:40.351725Z"
    }
   },
   "outputs": [
    {
     "data": {
      "text/plain": [
       "True"
      ]
     },
     "execution_count": 36,
     "metadata": {},
     "output_type": "execute_result"
    }
   ],
   "source": [
    "float(decimal.Decimal(\"0.1\")*3)==0.3"
   ]
  },
  {
   "cell_type": "markdown",
   "metadata": {},
   "source": [
    "#### math 라이브러리 이용 : 3.5이상"
   ]
  },
  {
   "cell_type": "code",
   "execution_count": 37,
   "metadata": {
    "ExecuteTime": {
     "end_time": "2021-12-14T13:54:40.681767Z",
     "start_time": "2021-12-14T13:54:40.664814Z"
    }
   },
   "outputs": [],
   "source": [
    "import math"
   ]
  },
  {
   "cell_type": "code",
   "execution_count": 38,
   "metadata": {
    "ExecuteTime": {
     "end_time": "2021-12-14T13:54:40.836764Z",
     "start_time": "2021-12-14T13:54:40.833738Z"
    }
   },
   "outputs": [
    {
     "data": {
      "text/plain": [
       "True"
      ]
     },
     "execution_count": 38,
     "metadata": {},
     "output_type": "execute_result"
    }
   ],
   "source": [
    "math.isclose(0.1+0.2,0.3)"
   ]
  },
  {
   "cell_type": "code",
   "execution_count": 39,
   "metadata": {
    "ExecuteTime": {
     "end_time": "2021-12-14T13:54:41.039600Z",
     "start_time": "2021-12-14T13:54:41.034617Z"
    }
   },
   "outputs": [
    {
     "data": {
      "text/plain": [
       "True"
      ]
     },
     "execution_count": 39,
     "metadata": {},
     "output_type": "execute_result"
    }
   ],
   "source": [
    "math.isclose(1.2-0.1,1.1)"
   ]
  },
  {
   "cell_type": "markdown",
   "metadata": {},
   "source": [
    "## 배열 이진 분할 알고리즘으로 검색속도 향상시키기"
   ]
  },
  {
   "cell_type": "markdown",
   "metadata": {},
   "source": [
    "- range는 메모리 효율이 좋으나 list는 메모리 효율이 떨어짐"
   ]
  },
  {
   "cell_type": "code",
   "execution_count": 40,
   "metadata": {
    "ExecuteTime": {
     "end_time": "2021-12-14T13:54:42.488126Z",
     "start_time": "2021-12-14T13:54:41.544922Z"
    }
   },
   "outputs": [],
   "source": [
    "data=list(range(100000000))"
   ]
  },
  {
   "cell_type": "code",
   "execution_count": 41,
   "metadata": {
    "ExecuteTime": {
     "end_time": "2021-12-14T13:54:58.237841Z",
     "start_time": "2021-12-14T13:54:57.557507Z"
    }
   },
   "outputs": [
    {
     "data": {
      "text/plain": [
       "99999999"
      ]
     },
     "execution_count": 41,
     "metadata": {},
     "output_type": "execute_result"
    }
   ],
   "source": [
    "data.index(99999999)"
   ]
  },
  {
   "cell_type": "code",
   "execution_count": 42,
   "metadata": {
    "ExecuteTime": {
     "end_time": "2021-12-14T13:55:18.318614Z",
     "start_time": "2021-12-14T13:55:13.073260Z"
    }
   },
   "outputs": [
    {
     "name": "stdout",
     "output_type": "stream",
     "text": [
      "654 ms ± 2.42 ms per loop (mean ± std. dev. of 7 runs, 1 loop each)\n"
     ]
    }
   ],
   "source": [
    "%%timeit\n",
    "# list는 find 사용 불가\n",
    "data.index(99999999) # 없는 값을 찾을 경우 에러확인하는데 시간 많이 걸림\n"
   ]
  },
  {
   "cell_type": "markdown",
   "metadata": {},
   "source": [
    "### 이진탐색 라이브러리 import"
   ]
  },
  {
   "cell_type": "markdown",
   "metadata": {},
   "source": [
    "- 정렬된 List 사용 필요"
   ]
  },
  {
   "cell_type": "code",
   "execution_count": 43,
   "metadata": {
    "ExecuteTime": {
     "end_time": "2021-12-14T13:55:33.123750Z",
     "start_time": "2021-12-14T13:55:33.108761Z"
    }
   },
   "outputs": [],
   "source": [
    "from bisect import bisect_left"
   ]
  },
  {
   "cell_type": "code",
   "execution_count": 44,
   "metadata": {
    "ExecuteTime": {
     "end_time": "2021-12-14T13:55:54.604830Z",
     "start_time": "2021-12-14T13:55:48.810601Z"
    }
   },
   "outputs": [
    {
     "name": "stdout",
     "output_type": "stream",
     "text": [
      "713 ns ± 5.14 ns per loop (mean ± std. dev. of 7 runs, 1000000 loops each)\n"
     ]
    }
   ],
   "source": [
    "%%timeit\n",
    "from bisect import bisect_left #이진탐색\n",
    "bisect_left(data,99999999)"
   ]
  },
  {
   "cell_type": "code",
   "execution_count": 45,
   "metadata": {
    "ExecuteTime": {
     "end_time": "2021-12-14T13:56:09.661225Z",
     "start_time": "2021-12-14T13:56:09.647231Z"
    }
   },
   "outputs": [
    {
     "data": {
      "text/plain": [
       "99999999"
      ]
     },
     "execution_count": 45,
     "metadata": {},
     "output_type": "execute_result"
    }
   ],
   "source": [
    "bisect_left(data,99999999)"
   ]
  },
  {
   "cell_type": "code",
   "execution_count": 46,
   "metadata": {
    "ExecuteTime": {
     "end_time": "2021-12-14T13:56:24.834975Z",
     "start_time": "2021-12-14T13:56:24.821249Z"
    }
   },
   "outputs": [
    {
     "data": {
      "text/plain": [
       "0"
      ]
     },
     "execution_count": 46,
     "metadata": {},
     "output_type": "execute_result"
    }
   ],
   "source": [
    "bisect_left(data,-100)"
   ]
  },
  {
   "cell_type": "markdown",
   "metadata": {},
   "source": [
    "## 클로저 활용하기"
   ]
  },
  {
   "cell_type": "markdown",
   "metadata": {},
   "source": [
    "### free variable"
   ]
  },
  {
   "cell_type": "code",
   "execution_count": 47,
   "metadata": {
    "ExecuteTime": {
     "end_time": "2021-12-14T13:56:40.150023Z",
     "start_time": "2021-12-14T13:56:40.135686Z"
    }
   },
   "outputs": [],
   "source": [
    "def func1(x):\n",
    "    def func2(y):\n",
    "        return y**x\n",
    "    return func2"
   ]
  },
  {
   "cell_type": "code",
   "execution_count": 48,
   "metadata": {
    "ExecuteTime": {
     "end_time": "2021-12-14T13:56:55.061236Z",
     "start_time": "2021-12-14T13:56:55.046293Z"
    }
   },
   "outputs": [
    {
     "data": {
      "text/plain": [
       "100"
      ]
     },
     "execution_count": 48,
     "metadata": {},
     "output_type": "execute_result"
    }
   ],
   "source": [
    "test=func1(2) # func1(2)\n",
    "test(10) # 10**2"
   ]
  },
  {
   "cell_type": "code",
   "execution_count": 49,
   "metadata": {
    "ExecuteTime": {
     "end_time": "2021-12-14T13:57:10.253726Z",
     "start_time": "2021-12-14T13:57:10.238767Z"
    }
   },
   "outputs": [
    {
     "data": {
      "text/plain": [
       "1000"
      ]
     },
     "execution_count": 49,
     "metadata": {},
     "output_type": "execute_result"
    }
   ],
   "source": [
    "test=func1(3)\n",
    "test(10)"
   ]
  },
  {
   "cell_type": "code",
   "execution_count": 50,
   "metadata": {
    "ExecuteTime": {
     "end_time": "2021-12-14T13:57:25.246498Z",
     "start_time": "2021-12-14T13:57:25.232021Z"
    }
   },
   "outputs": [],
   "source": [
    "# 재사용성\n",
    "# 연산속도 상승 \n",
    "def calc_currency(country,rate):\n",
    "    converted_currency=[]\n",
    "    def calc(money):\n",
    "        converted_currency.append(country)\n",
    "        return f'입력값 : {country}, 변환값 : {format(rate*money,\",\")}원, {converted_currency}'\n",
    "    return calc"
   ]
  },
  {
   "cell_type": "code",
   "execution_count": 51,
   "metadata": {
    "ExecuteTime": {
     "end_time": "2021-12-14T13:57:40.388945Z",
     "start_time": "2021-12-14T13:57:40.375978Z"
    }
   },
   "outputs": [],
   "source": [
    "dollar=calc_currency(\"미국\",1200)"
   ]
  },
  {
   "cell_type": "code",
   "execution_count": 52,
   "metadata": {
    "ExecuteTime": {
     "end_time": "2021-12-14T13:57:55.713036Z",
     "start_time": "2021-12-14T13:57:55.701072Z"
    }
   },
   "outputs": [
    {
     "data": {
      "text/plain": [
       "\"입력값 : 미국, 변환값 : 120,000원, ['미국']\""
      ]
     },
     "execution_count": 52,
     "metadata": {},
     "output_type": "execute_result"
    }
   ],
   "source": [
    "dollar(100)"
   ]
  },
  {
   "cell_type": "code",
   "execution_count": 53,
   "metadata": {
    "ExecuteTime": {
     "end_time": "2021-12-14T13:58:10.685406Z",
     "start_time": "2021-12-14T13:58:10.671004Z"
    }
   },
   "outputs": [
    {
     "data": {
      "text/plain": [
       "['__annotations__',\n",
       " '__call__',\n",
       " '__class__',\n",
       " '__closure__',\n",
       " '__code__',\n",
       " '__defaults__',\n",
       " '__delattr__',\n",
       " '__dict__',\n",
       " '__dir__',\n",
       " '__doc__',\n",
       " '__eq__',\n",
       " '__format__',\n",
       " '__ge__',\n",
       " '__get__',\n",
       " '__getattribute__',\n",
       " '__globals__',\n",
       " '__gt__',\n",
       " '__hash__',\n",
       " '__init__',\n",
       " '__init_subclass__',\n",
       " '__kwdefaults__',\n",
       " '__le__',\n",
       " '__lt__',\n",
       " '__module__',\n",
       " '__name__',\n",
       " '__ne__',\n",
       " '__new__',\n",
       " '__qualname__',\n",
       " '__reduce__',\n",
       " '__reduce_ex__',\n",
       " '__repr__',\n",
       " '__setattr__',\n",
       " '__sizeof__',\n",
       " '__str__',\n",
       " '__subclasshook__']"
      ]
     },
     "execution_count": 53,
     "metadata": {},
     "output_type": "execute_result"
    }
   ],
   "source": [
    "dir(dollar)"
   ]
  },
  {
   "cell_type": "code",
   "execution_count": 54,
   "metadata": {
    "ExecuteTime": {
     "end_time": "2021-12-14T13:58:26.035466Z",
     "start_time": "2021-12-14T13:58:26.020503Z"
    }
   },
   "outputs": [
    {
     "data": {
      "text/plain": [
       "('money',)"
      ]
     },
     "execution_count": 54,
     "metadata": {},
     "output_type": "execute_result"
    }
   ],
   "source": [
    "dollar.__code__.co_varnames"
   ]
  },
  {
   "cell_type": "code",
   "execution_count": 55,
   "metadata": {
    "ExecuteTime": {
     "end_time": "2021-12-14T13:58:41.696045Z",
     "start_time": "2021-12-14T13:58:41.682087Z"
    }
   },
   "outputs": [
    {
     "data": {
      "text/plain": [
       "('converted_currency', 'country', 'rate')"
      ]
     },
     "execution_count": 55,
     "metadata": {},
     "output_type": "execute_result"
    }
   ],
   "source": [
    "dollar.__code__.co_freevars"
   ]
  },
  {
   "cell_type": "code",
   "execution_count": null,
   "metadata": {},
   "outputs": [],
   "source": []
  }
 ],
 "metadata": {
  "kernelspec": {
   "display_name": "Python 3",
   "language": "python",
   "name": "python3"
  },
  "language_info": {
   "codemirror_mode": {
    "name": "ipython",
    "version": 3
   },
   "file_extension": ".py",
   "mimetype": "text/x-python",
   "name": "python",
   "nbconvert_exporter": "python",
   "pygments_lexer": "ipython3",
   "version": "3.8.5"
  },
  "toc": {
   "base_numbering": 1,
   "nav_menu": {},
   "number_sections": true,
   "sideBar": true,
   "skip_h1_title": false,
   "title_cell": "Table of Contents",
   "title_sidebar": "Contents",
   "toc_cell": false,
   "toc_position": {},
   "toc_section_display": true,
   "toc_window_display": true
  },
  "varInspector": {
   "cols": {
    "lenName": 16,
    "lenType": 16,
    "lenVar": 40
   },
   "kernels_config": {
    "python": {
     "delete_cmd_postfix": "",
     "delete_cmd_prefix": "del ",
     "library": "var_list.py",
     "varRefreshCmd": "print(var_dic_list())"
    },
    "r": {
     "delete_cmd_postfix": ") ",
     "delete_cmd_prefix": "rm(",
     "library": "var_list.r",
     "varRefreshCmd": "cat(var_dic_list()) "
    }
   },
   "types_to_exclude": [
    "module",
    "function",
    "builtin_function_or_method",
    "instance",
    "_Feature"
   ],
   "window_display": true
  }
 },
 "nbformat": 4,
 "nbformat_minor": 4
}
