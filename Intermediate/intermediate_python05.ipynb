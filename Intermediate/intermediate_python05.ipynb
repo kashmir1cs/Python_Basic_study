{
 "cells": [
  {
   "cell_type": "markdown",
   "metadata": {},
   "source": [
    "\n",
    "# 일급합수\n",
    "- 파이썬의 함수는 일급 객체로 취급\n",
    "- 일급 객체란 : \n",
    "1. 변수에 할당 할 수 있다.\n",
    "2. 함수의 인자로 전달될 수 있다.\n",
    "3. 함수의 Return값이 될 수 있다."
   ]
  },
  {
   "cell_type": "markdown",
   "metadata": {},
   "source": [
    "일급함수 : int,float,str,dict,tuple,list,set외 함수도 이와 같은 특징보유"
   ]
  },
  {
   "cell_type": "markdown",
   "metadata": {},
   "source": [
    "## 함수 변수에 할당"
   ]
  },
  {
   "cell_type": "code",
   "execution_count": 6,
   "metadata": {
    "ExecuteTime": {
     "end_time": "2021-12-20T14:07:02.378409Z",
     "start_time": "2021-12-20T14:07:02.360491Z"
    }
   },
   "outputs": [
    {
     "data": {
      "text/plain": [
       "10"
      ]
     },
     "execution_count": 6,
     "metadata": {},
     "output_type": "execute_result"
    }
   ],
   "source": [
    "x=3\n",
    "y=7\n",
    "x+y"
   ]
  },
  {
   "cell_type": "code",
   "execution_count": 7,
   "metadata": {
    "ExecuteTime": {
     "end_time": "2021-12-20T14:07:02.564520Z",
     "start_time": "2021-12-20T14:07:02.559572Z"
    }
   },
   "outputs": [
    {
     "name": "stdout",
     "output_type": "stream",
     "text": [
      "hello\n"
     ]
    }
   ],
   "source": [
    "hx=print #변수에 함수 할당\n",
    "hx(\"hello\")"
   ]
  },
  {
   "cell_type": "code",
   "execution_count": 8,
   "metadata": {
    "ExecuteTime": {
     "end_time": "2021-12-20T14:07:02.766711Z",
     "start_time": "2021-12-20T14:07:02.752702Z"
    }
   },
   "outputs": [
    {
     "name": "stdout",
     "output_type": "stream",
     "text": [
      "hello\n"
     ]
    }
   ],
   "source": [
    "def hello():\n",
    "    print('hello')\n",
    "A=hello\n",
    "A()"
   ]
  },
  {
   "cell_type": "markdown",
   "metadata": {},
   "source": [
    "## 인자로 할당"
   ]
  },
  {
   "cell_type": "code",
   "execution_count": 9,
   "metadata": {
    "ExecuteTime": {
     "end_time": "2021-12-20T14:08:22.692278Z",
     "start_time": "2021-12-20T14:08:22.681341Z"
    }
   },
   "outputs": [
    {
     "name": "stdout",
     "output_type": "stream",
     "text": [
      "hello\n",
      "world\n"
     ]
    }
   ],
   "source": [
    "def hello():\n",
    "    print(\"hello\")\n",
    "def world():\n",
    "    print(\"world\")\n",
    "def dual(a,b):\n",
    "    a()\n",
    "    b()\n",
    "# 인자로 할당\n",
    "dual(hello,world)"
   ]
  },
  {
   "cell_type": "markdown",
   "metadata": {},
   "source": [
    "## 함수의 return값이 될 경우 "
   ]
  },
  {
   "cell_type": "code",
   "execution_count": 15,
   "metadata": {
    "ExecuteTime": {
     "end_time": "2021-12-20T14:39:45.486098Z",
     "start_time": "2021-12-20T14:39:45.478152Z"
    }
   },
   "outputs": [
    {
     "data": {
      "text/plain": [
       "[<function __main__.binomial_operation.<locals>.plus(a, b)>,\n",
       " <function __main__.binomial_operation.<locals>.minus(a, b)>,\n",
       " <function __main__.binomial_operation.<locals>.multiple(a, b)>,\n",
       " <function __main__.binomial_operation.<locals>.divide(a, b)>]"
      ]
     },
     "execution_count": 15,
     "metadata": {},
     "output_type": "execute_result"
    }
   ],
   "source": [
    "def binomial_operation(operation_name):\n",
    "    def plus(a,b):\n",
    "        return a+b\n",
    "    def minus(a,b):\n",
    "        return a-b\n",
    "    def multiple(a,b):\n",
    "        return a*b\n",
    "    def divide(a,b):\n",
    "        return a/b\n",
    "    if operation_name==\"+\":\n",
    "        return plus\n",
    "    elif operation_name==\"-\":\n",
    "        return minus\n",
    "    elif operation_name==\"*\":\n",
    "        return multiple\n",
    "    elif operation_name==\"/\":\n",
    "        return divide\n",
    "operations= [binomial_operation(operation_name) for operation_name in (\"+\",\"-\",\"*\",\"/\")]\n",
    "operations\n",
    "# 함수가 리스트에 저장되어 있음"
   ]
  },
  {
   "cell_type": "code",
   "execution_count": 16,
   "metadata": {
    "ExecuteTime": {
     "end_time": "2021-12-20T14:39:53.096599Z",
     "start_time": "2021-12-20T14:39:53.085585Z"
    }
   },
   "outputs": [
    {
     "name": "stdout",
     "output_type": "stream",
     "text": [
      "plus의 결과 값 :15 \n",
      "minus의 결과 값 :5 \n",
      "multiple의 결과 값 :50 \n",
      "divide의 결과 값 :2.0 \n"
     ]
    }
   ],
   "source": [
    "for operation in operations:\n",
    "    val=operation(10,5)\n",
    "    print(f\"{operation.__name__}의 결과 값 :{val} \")"
   ]
  },
  {
   "cell_type": "markdown",
   "metadata": {},
   "source": [
    "# 고위 함수"
   ]
  },
  {
   "cell_type": "markdown",
   "metadata": {},
   "source": [
    "- 함수를 인자로 받거나 함수를 리턴하는 함수"
   ]
  },
  {
   "cell_type": "code",
   "execution_count": 17,
   "metadata": {
    "ExecuteTime": {
     "end_time": "2021-12-20T14:41:58.910893Z",
     "start_time": "2021-12-20T14:41:58.901920Z"
    }
   },
   "outputs": [
    {
     "name": "stdout",
     "output_type": "stream",
     "text": [
      "hello\n",
      "world\n"
     ]
    }
   ],
   "source": [
    "def dual(a,b):\n",
    "    a()\n",
    "    b()\n",
    "# 인자로 할당\n",
    "dual(hello,world)"
   ]
  },
  {
   "cell_type": "code",
   "execution_count": 20,
   "metadata": {
    "ExecuteTime": {
     "end_time": "2021-12-20T14:42:53.284183Z",
     "start_time": "2021-12-20T14:42:53.269224Z"
    }
   },
   "outputs": [],
   "source": [
    "def f1():\n",
    "    print(\"함수의 시작\")\n",
    "    print(\"hello\")\n",
    "    print(\"함수의 끝\")\n",
    "def f2():\n",
    "    print(\"함수의 시작\")\n",
    "    print(\"안녕하세요\")\n",
    "    print(\"함수의 끝\")\n"
   ]
  },
  {
   "cell_type": "code",
   "execution_count": 21,
   "metadata": {
    "ExecuteTime": {
     "end_time": "2021-12-20T14:42:53.688498Z",
     "start_time": "2021-12-20T14:42:53.685504Z"
    }
   },
   "outputs": [
    {
     "name": "stdout",
     "output_type": "stream",
     "text": [
      "함수의 시작\n",
      "hello\n",
      "함수의 끝\n",
      "함수의 시작\n",
      "안녕하세요\n",
      "함수의 끝\n"
     ]
    }
   ],
   "source": [
    "f1()\n",
    "f2()"
   ]
  },
  {
   "cell_type": "markdown",
   "metadata": {},
   "source": [
    "## decorator 구현"
   ]
  },
  {
   "cell_type": "code",
   "execution_count": 22,
   "metadata": {
    "ExecuteTime": {
     "end_time": "2021-12-20T14:44:38.031580Z",
     "start_time": "2021-12-20T14:44:38.026556Z"
    }
   },
   "outputs": [],
   "source": [
    "def debug(function):\n",
    "    def new_function():\n",
    "        print(\"start of function\")\n",
    "        function()\n",
    "        print(\"end of function\")\n",
    "    return new_function\n",
    "        "
   ]
  },
  {
   "cell_type": "code",
   "execution_count": 29,
   "metadata": {
    "ExecuteTime": {
     "end_time": "2021-12-20T14:47:21.539356Z",
     "start_time": "2021-12-20T14:47:21.525403Z"
    }
   },
   "outputs": [],
   "source": [
    "def f1():\n",
    "    print(\"hello\")\n",
    "def f2():\n",
    "    print(\"안녕하세요\")\n"
   ]
  },
  {
   "cell_type": "code",
   "execution_count": 30,
   "metadata": {
    "ExecuteTime": {
     "end_time": "2021-12-20T14:47:22.406027Z",
     "start_time": "2021-12-20T14:47:22.396088Z"
    }
   },
   "outputs": [
    {
     "name": "stdout",
     "output_type": "stream",
     "text": [
      "f1 start of function\n",
      "hello\n",
      "f1 end of function\n"
     ]
    }
   ],
   "source": [
    "debug(f1)() #f1을 new function에 품고 있는 형태"
   ]
  },
  {
   "cell_type": "markdown",
   "metadata": {},
   "source": [
    "### function name까지 함께출력"
   ]
  },
  {
   "cell_type": "code",
   "execution_count": 31,
   "metadata": {
    "ExecuteTime": {
     "end_time": "2021-12-20T14:47:23.166102Z",
     "start_time": "2021-12-20T14:47:23.149147Z"
    }
   },
   "outputs": [],
   "source": [
    "def debug(function):\n",
    "    def new_function():\n",
    "        print(f\"{function.__name__} start of function\")\n",
    "        function()\n",
    "        print(f\"{function.__name__} end of function\")\n",
    "    return new_function\n",
    "        "
   ]
  },
  {
   "cell_type": "code",
   "execution_count": 32,
   "metadata": {
    "ExecuteTime": {
     "end_time": "2021-12-20T14:47:23.491430Z",
     "start_time": "2021-12-20T14:47:23.476468Z"
    }
   },
   "outputs": [
    {
     "name": "stdout",
     "output_type": "stream",
     "text": [
      "f1 start of function\n",
      "hello\n",
      "f1 end of function\n",
      "f2 start of function\n",
      "안녕하세요\n",
      "f2 end of function\n"
     ]
    }
   ],
   "source": [
    "debug(f1)() #f1을 new function에 품고 있는 형태\n",
    "debug(f2)() #f2을 new function에 품고 있는 형태"
   ]
  },
  {
   "cell_type": "markdown",
   "metadata": {},
   "source": [
    "### decorator @ 사용"
   ]
  },
  {
   "cell_type": "code",
   "execution_count": 33,
   "metadata": {
    "ExecuteTime": {
     "end_time": "2021-12-20T14:47:44.360756Z",
     "start_time": "2021-12-20T14:47:44.355728Z"
    }
   },
   "outputs": [],
   "source": [
    "@debug\n",
    "def f1():\n",
    "    print(\"hello\")\n",
    "@debug\n",
    "def f2():\n",
    "    print(\"안녕하세요\")\n"
   ]
  },
  {
   "cell_type": "code",
   "execution_count": 35,
   "metadata": {
    "ExecuteTime": {
     "end_time": "2021-12-20T14:48:12.474008Z",
     "start_time": "2021-12-20T14:48:12.469019Z"
    }
   },
   "outputs": [
    {
     "name": "stdout",
     "output_type": "stream",
     "text": [
      "f1 start of function\n",
      "hello\n",
      "f1 end of function\n"
     ]
    }
   ],
   "source": [
    "f1() # debug 자동출력"
   ]
  },
  {
   "cell_type": "markdown",
   "metadata": {},
   "source": [
    "### decorator 예시"
   ]
  },
  {
   "cell_type": "code",
   "execution_count": null,
   "metadata": {},
   "outputs": [],
   "source": [
    "# DJango에서 로그인한 사용자만 게시물을 볼수 있도록 구성\n",
    "\"\"\"\n",
    "@login\n",
    "def f1():\n",
    "    print(\"hello\")\n",
    "\"\"\""
   ]
  },
  {
   "cell_type": "markdown",
   "metadata": {},
   "source": [
    "# 매개변수가 있는 함수의 Decorator"
   ]
  },
  {
   "cell_type": "code",
   "execution_count": 36,
   "metadata": {
    "ExecuteTime": {
     "end_time": "2021-12-20T14:49:44.654499Z",
     "start_time": "2021-12-20T14:49:44.643531Z"
    }
   },
   "outputs": [],
   "source": [
    "@debug\n",
    "def f1(n): #debug가 매개변수X => 에러 발생\n",
    "    print(str(n)+\"hello\")\n",
    "@debug\n",
    "def f2():\n",
    "    print(\"안녕하세요\")"
   ]
  },
  {
   "cell_type": "markdown",
   "metadata": {},
   "source": [
    "## 매개변수 정의가 되어 있지 않아서 에러 발생"
   ]
  },
  {
   "cell_type": "code",
   "execution_count": 37,
   "metadata": {
    "ExecuteTime": {
     "end_time": "2021-12-20T14:49:47.972992Z",
     "start_time": "2021-12-20T14:49:47.963019Z"
    }
   },
   "outputs": [
    {
     "ename": "TypeError",
     "evalue": "new_function() takes 0 positional arguments but 1 was given",
     "output_type": "error",
     "traceback": [
      "\u001b[1;31m---------------------------------------------------------------------------\u001b[0m",
      "\u001b[1;31mTypeError\u001b[0m                                 Traceback (most recent call last)",
      "\u001b[1;32m<ipython-input-37-ff691e6ce47c>\u001b[0m in \u001b[0;36m<module>\u001b[1;34m\u001b[0m\n\u001b[1;32m----> 1\u001b[1;33m \u001b[0mf1\u001b[0m\u001b[1;33m(\u001b[0m\u001b[1;36m10\u001b[0m\u001b[1;33m)\u001b[0m\u001b[1;33m\u001b[0m\u001b[1;33m\u001b[0m\u001b[0m\n\u001b[0m",
      "\u001b[1;31mTypeError\u001b[0m: new_function() takes 0 positional arguments but 1 was given"
     ]
    }
   ],
   "source": [
    "f1(10)"
   ]
  },
  {
   "cell_type": "code",
   "execution_count": 38,
   "metadata": {
    "ExecuteTime": {
     "end_time": "2021-12-20T14:51:11.325230Z",
     "start_time": "2021-12-20T14:51:11.308273Z"
    }
   },
   "outputs": [],
   "source": [
    "def debug_new(function):\n",
    "    def new_function(one):\n",
    "        print(f\"{function.__name__} start of function\")\n",
    "        function(one)\n",
    "        print(f\"{function.__name__} end of function\")\n",
    "    return new_function\n",
    "        "
   ]
  },
  {
   "cell_type": "markdown",
   "metadata": {},
   "source": [
    "## 인자값 정의"
   ]
  },
  {
   "cell_type": "code",
   "execution_count": 40,
   "metadata": {
    "ExecuteTime": {
     "end_time": "2021-12-20T14:51:39.086748Z",
     "start_time": "2021-12-20T14:51:39.069196Z"
    }
   },
   "outputs": [],
   "source": [
    "@debug_new\n",
    "def f1(n): #debug가 매개변수X => 에러 발생\n",
    "    print(str(n)+\"hello\")\n",
    "@debug_new\n",
    "def f2():\n",
    "    print(\"안녕하세요\")"
   ]
  },
  {
   "cell_type": "code",
   "execution_count": 41,
   "metadata": {
    "ExecuteTime": {
     "end_time": "2021-12-20T14:51:39.380883Z",
     "start_time": "2021-12-20T14:51:39.371943Z"
    }
   },
   "outputs": [
    {
     "name": "stdout",
     "output_type": "stream",
     "text": [
      "f1 start of function\n",
      "10hello\n",
      "f1 end of function\n"
     ]
    }
   ],
   "source": [
    "f1(10)"
   ]
  },
  {
   "cell_type": "markdown",
   "metadata": {
    "ExecuteTime": {
     "end_time": "2021-12-20T14:52:34.645270Z",
     "start_time": "2021-12-20T14:52:34.628315Z"
    }
   },
   "source": [
    "## 매개변수 타입이 정의 되어 있지 않을 경우 : args, kwargs"
   ]
  },
  {
   "cell_type": "code",
   "execution_count": 43,
   "metadata": {
    "ExecuteTime": {
     "end_time": "2021-12-20T14:53:51.284600Z",
     "start_time": "2021-12-20T14:53:51.277586Z"
    }
   },
   "outputs": [],
   "source": [
    "def debug(function):\n",
    "    def new_function(*args,**kwargs): # *args : 인자 여러개 , **kwargs : 딕셔너리\n",
    "        print(f\"{function.__name__} start of function\")\n",
    "        function(*args,**kwargs)\n",
    "        print(f\"{function.__name__} end of function\")\n",
    "    return new_function\n",
    "        "
   ]
  },
  {
   "cell_type": "code",
   "execution_count": 44,
   "metadata": {
    "ExecuteTime": {
     "end_time": "2021-12-20T14:54:06.066486Z",
     "start_time": "2021-12-20T14:54:06.060464Z"
    }
   },
   "outputs": [],
   "source": [
    "@debug\n",
    "def f1(n): #debug가 매개변수X => 에러 발생\n",
    "    print(str(n)+\"hello\")\n",
    "@debug\n",
    "def f2():\n",
    "    print(\"안녕하세요\")"
   ]
  },
  {
   "cell_type": "code",
   "execution_count": 46,
   "metadata": {
    "ExecuteTime": {
     "end_time": "2021-12-20T14:54:14.042550Z",
     "start_time": "2021-12-20T14:54:14.036524Z"
    }
   },
   "outputs": [
    {
     "name": "stdout",
     "output_type": "stream",
     "text": [
      "f1 start of function\n",
      "10hello\n",
      "f1 end of function\n"
     ]
    }
   ],
   "source": [
    "f1(10)"
   ]
  },
  {
   "cell_type": "markdown",
   "metadata": {
    "ExecuteTime": {
     "end_time": "2021-12-20T14:54:28.330494Z",
     "start_time": "2021-12-20T14:54:28.324499Z"
    }
   },
   "source": [
    "## 리턴값이 있는 함수의 Decorator"
   ]
  },
  {
   "cell_type": "code",
   "execution_count": 50,
   "metadata": {
    "ExecuteTime": {
     "end_time": "2021-12-20T14:56:32.381023Z",
     "start_time": "2021-12-20T14:56:32.364112Z"
    }
   },
   "outputs": [],
   "source": [
    "def debug(function):\n",
    "    def new_function(*args,**kwargs): # *args : 인자 여러개 , **kwargs : 딕셔너리\n",
    "        print(f\"{function.__name__} start of function\")\n",
    "        result=function(*args,**kwargs)\n",
    "        print(f\"{function.__name__} end of function\")\n",
    "        return result # return값 반환\n",
    "    return new_function"
   ]
  },
  {
   "cell_type": "code",
   "execution_count": 51,
   "metadata": {
    "ExecuteTime": {
     "end_time": "2021-12-20T14:56:32.659081Z",
     "start_time": "2021-12-20T14:56:32.652133Z"
    }
   },
   "outputs": [
    {
     "name": "stdout",
     "output_type": "stream",
     "text": [
      "sum_1_to_n start of function\n",
      "465.0\n",
      "sum_1_to_n end of function\n",
      "result : 465.0\n"
     ]
    }
   ],
   "source": [
    "@debug\n",
    "def sum_1_to_n(n):\n",
    "    return n*(n+1)/2\n",
    "\n",
    "result=sum_1_to_n(30)\n",
    "\n",
    "print(f\"result : {result}\")\n"
   ]
  },
  {
   "cell_type": "markdown",
   "metadata": {},
   "source": [
    "## 중첩 Decorator"
   ]
  },
  {
   "cell_type": "code",
   "execution_count": 56,
   "metadata": {
    "ExecuteTime": {
     "end_time": "2021-12-20T15:01:23.163832Z",
     "start_time": "2021-12-20T15:01:23.154856Z"
    }
   },
   "outputs": [],
   "source": [
    "def decorator1(function):\n",
    "    def new_function(*args,**kwargs): # *args : 인자 여러개 , **kwargs : 딕셔너리\n",
    "        print(\"1st decorator 시작\")\n",
    "        result=function(*args,**kwargs)\n",
    "        print(\"1st decorator 종료\")\n",
    "        return result # return값 반환\n",
    "    return new_function\n",
    "\n",
    "def decorator2(function):\n",
    "    def new_function(*args,**kwargs): # *args : 인자 여러개 , **kwargs : 딕셔너리\n",
    "        print(\"2nd decorator 시작\")\n",
    "        result=function(*args,**kwargs)\n",
    "        print(\"2nd decorator 종료\")\n",
    "        return result # return값 반환\n",
    "    return new_function\n",
    "\n",
    "def decorator3(function):\n",
    "    def new_function(*args,**kwargs): # *args : 인자 여러개 , **kwargs : 딕셔너리\n",
    "        print(\"3rd decorator 시작\")\n",
    "        result=function(*args,**kwargs)\n",
    "        print(\"3rd decorator 종료\")\n",
    "        return result # return값 반환\n",
    "    return new_function"
   ]
  },
  {
   "cell_type": "code",
   "execution_count": 58,
   "metadata": {
    "ExecuteTime": {
     "end_time": "2021-12-20T15:01:43.588920Z",
     "start_time": "2021-12-20T15:01:43.580971Z"
    }
   },
   "outputs": [
    {
     "name": "stdout",
     "output_type": "stream",
     "text": [
      "1st decorator 시작\n",
      "2nd decorator 시작\n",
      "3rd decorator 시작\n",
      "3rd decorator 종료\n",
      "2nd decorator 종료\n",
      "1st decorator 종료\n",
      "result : 465.0\n"
     ]
    }
   ],
   "source": [
    "@decorator1\n",
    "@decorator2\n",
    "@decorator3\n",
    "def sum_1_to_n(n):\n",
    "    return n*(n+1)/2\n",
    "\n",
    "result=sum_1_to_n(30)\n",
    "\n",
    "print(f\"result : {result}\")\n",
    "\n",
    "# 시작/ 종료 순서 유의 : 마지막 데코레이터부터 종료"
   ]
  },
  {
   "cell_type": "markdown",
   "metadata": {},
   "source": [
    "## 동적 decorator"
   ]
  },
  {
   "cell_type": "code",
   "execution_count": 60,
   "metadata": {
    "ExecuteTime": {
     "end_time": "2021-12-20T15:03:50.360855Z",
     "start_time": "2021-12-20T15:03:50.354957Z"
    }
   },
   "outputs": [
    {
     "name": "stdout",
     "output_type": "stream",
     "text": [
      "result : 130\n"
     ]
    }
   ],
   "source": [
    "def add(function):\n",
    "    def new_function(*args,**kwargs): # *args : 인자 여러개 , **kwargs : 딕셔너리\n",
    "        result= function(*args,**kwargs) # *args : 인자 여러개 , **kwargs : 딕셔너리)\n",
    "        return result +100\n",
    "    return new_function\n",
    "@add\n",
    "def plus(a,b):\n",
    "    return a+b\n",
    "result=plus(10,20)\n",
    "print(f'result : {result}')"
   ]
  },
  {
   "cell_type": "markdown",
   "metadata": {},
   "source": [
    "### add decorator 수정하기"
   ]
  },
  {
   "cell_type": "code",
   "execution_count": 66,
   "metadata": {
    "ExecuteTime": {
     "end_time": "2021-12-20T15:06:25.828011Z",
     "start_time": "2021-12-20T15:06:25.811016Z"
    }
   },
   "outputs": [],
   "source": [
    "def add(n):\n",
    "    def decorator(function):\n",
    "        def new_function(*args,**kwargs): # *args : 인자 여러개 , **kwargs : 딕셔너리\n",
    "            result= function(*args,**kwargs) # *args : 인자 여러개 , **kwargs : 딕셔너리)\n",
    "            return result +n\n",
    "        return new_function\n",
    "    return decorator"
   ]
  },
  {
   "cell_type": "code",
   "execution_count": 69,
   "metadata": {
    "ExecuteTime": {
     "end_time": "2021-12-20T15:06:52.300939Z",
     "start_time": "2021-12-20T15:06:52.291967Z"
    }
   },
   "outputs": [
    {
     "name": "stdout",
     "output_type": "stream",
     "text": [
      "result : 1030\n"
     ]
    }
   ],
   "source": [
    "@add(1000) # 동적으로 할당한 값 더하기\n",
    "def plus(a,b):\n",
    "    return a+b\n",
    "result=plus(10,20)\n",
    "print(f'result : {result}')"
   ]
  },
  {
   "cell_type": "markdown",
   "metadata": {},
   "source": [
    "## class형 decorator"
   ]
  },
  {
   "cell_type": "code",
   "execution_count": 70,
   "metadata": {
    "ExecuteTime": {
     "end_time": "2021-12-20T15:08:35.380603Z",
     "start_time": "2021-12-20T15:08:35.363608Z"
    }
   },
   "outputs": [],
   "source": [
    "class Debug:\n",
    "    def __init__(self,function):\n",
    "        self.function=function\n",
    "    def __call__(self,*args,**kwargs): # magic method\n",
    "        print(f\"{self.function.__name__} 함수 시작\")\n",
    "        self.function()\n",
    "        print(f\"{self.function.__name__} 함수 종료\")"
   ]
  },
  {
   "cell_type": "code",
   "execution_count": 72,
   "metadata": {
    "ExecuteTime": {
     "end_time": "2021-12-20T15:09:37.334892Z",
     "start_time": "2021-12-20T15:09:37.330872Z"
    }
   },
   "outputs": [
    {
     "name": "stdout",
     "output_type": "stream",
     "text": [
      "f1 함수 시작\n",
      "hello world\n",
      "f1 함수 종료\n",
      "f2 함수 시작\n",
      "hello\n",
      "f2 함수 종료\n"
     ]
    }
   ],
   "source": [
    "@Debug\n",
    "def f1():\n",
    "    print(\"hello world\")\n",
    "    \n",
    "@Debug\n",
    "def f2():\n",
    "    print(\"hello\")\n",
    "\n",
    "f1()\n",
    "f2()\n"
   ]
  },
  {
   "cell_type": "code",
   "execution_count": null,
   "metadata": {},
   "outputs": [],
   "source": []
  }
 ],
 "metadata": {
  "kernelspec": {
   "display_name": "Python 3",
   "language": "python",
   "name": "python3"
  },
  "language_info": {
   "codemirror_mode": {
    "name": "ipython",
    "version": 3
   },
   "file_extension": ".py",
   "mimetype": "text/x-python",
   "name": "python",
   "nbconvert_exporter": "python",
   "pygments_lexer": "ipython3",
   "version": "3.8.5"
  },
  "toc": {
   "base_numbering": 1,
   "nav_menu": {},
   "number_sections": true,
   "sideBar": true,
   "skip_h1_title": false,
   "title_cell": "Table of Contents",
   "title_sidebar": "Contents",
   "toc_cell": false,
   "toc_position": {},
   "toc_section_display": true,
   "toc_window_display": true
  },
  "varInspector": {
   "cols": {
    "lenName": 16,
    "lenType": 16,
    "lenVar": 40
   },
   "kernels_config": {
    "python": {
     "delete_cmd_postfix": "",
     "delete_cmd_prefix": "del ",
     "library": "var_list.py",
     "varRefreshCmd": "print(var_dic_list())"
    },
    "r": {
     "delete_cmd_postfix": ") ",
     "delete_cmd_prefix": "rm(",
     "library": "var_list.r",
     "varRefreshCmd": "cat(var_dic_list()) "
    }
   },
   "types_to_exclude": [
    "module",
    "function",
    "builtin_function_or_method",
    "instance",
    "_Feature"
   ],
   "window_display": false
  }
 },
 "nbformat": 4,
 "nbformat_minor": 4
}
